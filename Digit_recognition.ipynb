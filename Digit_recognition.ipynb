{
  "nbformat": 4,
  "nbformat_minor": 0,
  "metadata": {
    "colab": {
      "provenance": [],
      "collapsed_sections": [
        "vpGZ2EyW1nSm",
        "EqIE1l-JGs6C",
        "PQJnbk2CG8p9",
        "o4upnw30AFUl",
        "N-EcCk1sAGzB",
        "hp4I3CQKHAg9",
        "sy2X3wS7tjSg"
      ],
      "include_colab_link": true
    },
    "kernelspec": {
      "name": "python3",
      "display_name": "Python 3"
    },
    "language_info": {
      "name": "python"
    },
    "accelerator": "GPU",
    "gpuClass": "standard"
  },
  "cells": [
    {
      "cell_type": "markdown",
      "metadata": {
        "id": "view-in-github",
        "colab_type": "text"
      },
      "source": [
        "<a href=\"https://colab.research.google.com/github/Vayansh/Digit_recognition/blob/main/Digit_recognition.ipynb\" target=\"_parent\"><img src=\"https://colab.research.google.com/assets/colab-badge.svg\" alt=\"Open In Colab\"/></a>"
      ]
    },
    {
      "cell_type": "markdown",
      "source": [
        "# **1. Getting Dataset and prepare it for preprocessing**"
      ],
      "metadata": {
        "id": "XR60-0gGEjWm"
      }
    },
    {
      "cell_type": "markdown",
      "source": [
        "### **1.1 Importing Libraries**"
      ],
      "metadata": {
        "id": "Ogd1ckA5Ewo1"
      }
    },
    {
      "cell_type": "code",
      "source": [
        "!pip install tqdm"
      ],
      "metadata": {
        "colab": {
          "base_uri": "https://localhost:8080/"
        },
        "id": "jfr6-Vpl34rm",
        "outputId": "67ca17bf-974e-4912-f65a-f1c7a1d914d7"
      },
      "execution_count": null,
      "outputs": [
        {
          "output_type": "stream",
          "name": "stdout",
          "text": [
            "Requirement already satisfied: tqdm in /usr/local/lib/python3.10/dist-packages (4.65.0)\n"
          ]
        }
      ]
    },
    {
      "cell_type": "code",
      "execution_count": null,
      "metadata": {
        "id": "m1_vxt_Js_fM"
      },
      "outputs": [],
      "source": [
        "import cv2 as cv\n",
        "import numpy as np\n",
        "import matplotlib.pyplot as plt\n",
        "from google.colab.patches import cv2_imshow"
      ]
    },
    {
      "cell_type": "code",
      "source": [
        "import pandas as pd\n",
        "import os"
      ],
      "metadata": {
        "id": "NAT_4y4y8d62"
      },
      "execution_count": null,
      "outputs": []
    },
    {
      "cell_type": "markdown",
      "source": [
        "### **1.2 Importing Dataset**"
      ],
      "metadata": {
        "id": "fWZNNRwyFEbC"
      }
    },
    {
      "cell_type": "code",
      "source": [
        "from google.colab import drive\n",
        "drive.mount('/content/drive')"
      ],
      "metadata": {
        "id": "4AOhhXJ_6V03",
        "colab": {
          "base_uri": "https://localhost:8080/"
        },
        "outputId": "1bc2e1a0-2bf4-4170-8272-cdef72ccbb6b"
      },
      "execution_count": null,
      "outputs": [
        {
          "output_type": "stream",
          "name": "stdout",
          "text": [
            "Mounted at /content/drive\n"
          ]
        }
      ]
    },
    {
      "cell_type": "code",
      "source": [
        "#  Unzipping dataset\n",
        "!unzip \"/content/drive/MyDrive/digit_image_dataset.zip\""
      ],
      "metadata": {
        "id": "Vs3UpERQw_iL"
      },
      "execution_count": null,
      "outputs": []
    },
    {
      "cell_type": "markdown",
      "source": [
        "## **1.3 Forming DataFrame of filepaths and labels**"
      ],
      "metadata": {
        "id": "_qQoQrSjFPhj"
      }
    },
    {
      "cell_type": "markdown",
      "source": [
        "**Displaying a sample image of dataset**"
      ],
      "metadata": {
        "id": "x6d-SRwXzOBu"
      }
    },
    {
      "cell_type": "code",
      "source": [
        "dataset = \"/content/digit_image_dataset/Dataset\"\n",
        "img = cv.imread(dataset+\"/5/0.png\",0)\n",
        "print(img.shape)"
      ],
      "metadata": {
        "id": "9umsVd7T_n5D",
        "colab": {
          "base_uri": "https://localhost:8080/"
        },
        "outputId": "d35dc2e4-e9b2-479e-f051-580527f1acf7"
      },
      "execution_count": null,
      "outputs": [
        {
          "output_type": "stream",
          "name": "stdout",
          "text": [
            "(100, 100)\n"
          ]
        }
      ]
    },
    {
      "cell_type": "code",
      "source": [
        "cv2_imshow(img)"
      ],
      "metadata": {
        "colab": {
          "base_uri": "https://localhost:8080/",
          "height": 117
        },
        "id": "5vfX2qTVyjjR",
        "outputId": "a6497592-ac60-4b8c-d543-3a1e86ebe2ec"
      },
      "execution_count": null,
      "outputs": [
        {
          "output_type": "display_data",
          "data": {
            "text/plain": [
              "<PIL.Image.Image image mode=L size=100x100 at 0x78F5AF1B9030>"
            ],
            "image/png": "[encoded data removed]"
          },
          "metadata": {}
        }
      ]
    },
    {
      "cell_type": "code",
      "source": [
        "IMG_SIZE = (100,100)        # target size of image"
      ],
      "metadata": {
        "id": "VJO-Es-RAK05"
      },
      "execution_count": null,
      "outputs": []
    },
    {
      "cell_type": "code",
      "source": [
        "# building a dataframe of filepaths and labels so as to input to a Image data generator\n",
        "df = []\n",
        "for i in range(0,10):\n",
        "  folder = f\"{i}\"\n",
        "  path = os.path.join(dataset,folder)\n",
        "  for j in os.listdir(path):\n",
        "    dic = {'filepath': os.path.join(dataset,folder,f\"{j}\") , 'label': f\"{i}\"}\n",
        "    df.append(dic)\n",
        "folder = f\"_\"\n",
        "path = os.path.join(dataset,folder)\n",
        "for j in os.listdir(path):\n",
        "    dic = {'filepath': os.path.join(dataset,folder,f\"{j}\") , 'label': \"_\"}\n",
        "    df.append(dic)\n",
        "df = pd.DataFrame(df)\n",
        "df.head()"
      ],
      "metadata": {
        "colab": {
          "base_uri": "https://localhost:8080/",
          "height": 206
        },
        "id": "3Zzn9DHm1RAa",
        "outputId": "f4e11829-8ac8-4a8d-f53f-68d35a92263f"
      },
      "execution_count": null,
      "outputs": [
        {
          "output_type": "execute_result",
          "data": {
            "text/plain": [
              "                                         filepath label\n",
              "0   /content/digit_image_dataset/Dataset/0/19.png     0\n",
              "1  /content/digit_image_dataset/Dataset/0/166.png     0\n",
              "2  /content/digit_image_dataset/Dataset/0/261.png     0\n",
              "3  /content/digit_image_dataset/Dataset/0/318.png     0\n",
              "4  /content/digit_image_dataset/Dataset/0/307.png     0"
            ],
            "text/html": [
              "\n",
              "\n",
              "  <div id=\"df-283bff1a-1e0b-44fa-9f0e-fff9e19e9671\">\n",
              "    <div class=\"colab-df-container\">\n",
              "      <div>\n",
              "<style scoped>\n",
              "    .dataframe tbody tr th:only-of-type {\n",
              "        vertical-align: middle;\n",
              "    }\n",
              "\n",
              "    .dataframe tbody tr th {\n",
              "        vertical-align: top;\n",
              "    }\n",
              "\n",
              "    .dataframe thead th {\n",
              "        text-align: right;\n",
              "    }\n",
              "</style>\n",
              "<table border=\"1\" class=\"dataframe\">\n",
              "  <thead>\n",
              "    <tr style=\"text-align: right;\">\n",
              "      <th></th>\n",
              "      <th>filepath</th>\n",
              "      <th>label</th>\n",
              "    </tr>\n",
              "  </thead>\n",
              "  <tbody>\n",
              "    <tr>\n",
              "      <th>0</th>\n",
              "      <td>/content/digit_image_dataset/Dataset/0/19.png</td>\n",
              "      <td>0</td>\n",
              "    </tr>\n",
              "    <tr>\n",
              "      <th>1</th>\n",
              "      <td>/content/digit_image_dataset/Dataset/0/166.png</td>\n",
              "      <td>0</td>\n",
              "    </tr>\n",
              "    <tr>\n",
              "      <th>2</th>\n",
              "      <td>/content/digit_image_dataset/Dataset/0/261.png</td>\n",
              "      <td>0</td>\n",
              "    </tr>\n",
              "    <tr>\n",
              "      <th>3</th>\n",
              "      <td>/content/digit_image_dataset/Dataset/0/318.png</td>\n",
              "      <td>0</td>\n",
              "    </tr>\n",
              "    <tr>\n",
              "      <th>4</th>\n",
              "      <td>/content/digit_image_dataset/Dataset/0/307.png</td>\n",
              "      <td>0</td>\n",
              "    </tr>\n",
              "  </tbody>\n",
              "</table>\n",
              "</div>\n",
              "      <button class=\"colab-df-convert\" onclick=\"convertToInteractive('df-283bff1a-1e0b-44fa-9f0e-fff9e19e9671')\"\n",
              "              title=\"Convert this dataframe to an interactive table.\"\n",
              "              style=\"display:none;\">\n",
              "\n",
              "  <svg xmlns=\"http://www.w3.org/2000/svg\" height=\"24px\"viewBox=\"0 0 24 24\"\n",
              "       width=\"24px\">\n",
              "    <path d=\"M0 0h24v24H0V0z\" fill=\"none\"/>\n",
              "    <path d=\"M18.56 5.44l.94 2.06.94-2.06 2.06-.94-2.06-.94-.94-2.06-.94 2.06-2.06.94zm-11 1L8.5 8.5l.94-2.06 2.06-.94-2.06-.94L8.5 2.5l-.94 2.06-2.06.94zm10 10l.94 2.06.94-2.06 2.06-.94-2.06-.94-.94-2.06-.94 2.06-2.06.94z\"/><path d=\"M17.41 7.96l-1.37-1.37c-.4-.4-.92-.59-1.43-.59-.52 0-1.04.2-1.43.59L10.3 9.45l-7.72 7.72c-.78.78-.78 2.05 0 2.83L4 21.41c.39.39.9.59 1.41.59.51 0 1.02-.2 1.41-.59l7.78-7.78 2.81-2.81c.8-.78.8-2.07 0-2.86zM5.41 20L4 18.59l7.72-7.72 1.47 1.35L5.41 20z\"/>\n",
              "  </svg>\n",
              "      </button>\n",
              "\n",
              "\n",
              "\n",
              "    <div id=\"df-df02cd6d-19f4-4bd7-bd2f-9208f46d39d1\">\n",
              "      <button class=\"colab-df-quickchart\" onclick=\"quickchart('df-df02cd6d-19f4-4bd7-bd2f-9208f46d39d1')\"\n",
              "              title=\"Suggest charts.\"\n",
              "              style=\"display:none;\">\n",
              "\n",
              "<svg xmlns=\"http://www.w3.org/2000/svg\" height=\"24px\"viewBox=\"0 0 24 24\"\n",
              "     width=\"24px\">\n",
              "    <g>\n",
              "        <path d=\"M19 3H5c-1.1 0-2 .9-2 2v14c0 1.1.9 2 2 2h14c1.1 0 2-.9 2-2V5c0-1.1-.9-2-2-2zM9 17H7v-7h2v7zm4 0h-2V7h2v10zm4 0h-2v-4h2v4z\"/>\n",
              "    </g>\n",
              "</svg>\n",
              "      </button>\n",
              "    </div>\n",
              "\n",
              "<style>\n",
              "  .colab-df-quickchart {\n",
              "    background-color: #E8F0FE;\n",
              "    border: none;\n",
              "    border-radius: 50%;\n",
              "    cursor: pointer;\n",
              "    display: none;\n",
              "    fill: #1967D2;\n",
              "    height: 32px;\n",
              "    padding: 0 0 0 0;\n",
              "    width: 32px;\n",
              "  }\n",
              "\n",
              "  .colab-df-quickchart:hover {\n",
              "    background-color: #E2EBFA;\n",
              "    box-shadow: 0px 1px 2px rgba(60, 64, 67, 0.3), 0px 1px 3px 1px rgba(60, 64, 67, 0.15);\n",
              "    fill: #174EA6;\n",
              "  }\n",
              "\n",
              "  [theme=dark] .colab-df-quickchart {\n",
              "    background-color: #3B4455;\n",
              "    fill: #D2E3FC;\n",
              "  }\n",
              "\n",
              "  [theme=dark] .colab-df-quickchart:hover {\n",
              "    background-color: #434B5C;\n",
              "    box-shadow: 0px 1px 3px 1px rgba(0, 0, 0, 0.15);\n",
              "    filter: drop-shadow(0px 1px 2px rgba(0, 0, 0, 0.3));\n",
              "    fill: #FFFFFF;\n",
              "  }\n",
              "</style>\n",
              "\n",
              "    <script>\n",
              "      async function quickchart(key) {\n",
              "        const containerElement = document.querySelector('#' + key);\n",
              "        const charts = await google.colab.kernel.invokeFunction(\n",
              "            'suggestCharts', [key], {});\n",
              "      }\n",
              "    </script>\n",
              "\n",
              "      <script>\n",
              "\n",
              "function displayQuickchartButton(domScope) {\n",
              "  let quickchartButtonEl =\n",
              "    domScope.querySelector('#df-df02cd6d-19f4-4bd7-bd2f-9208f46d39d1 button.colab-df-quickchart');\n",
              "  quickchartButtonEl.style.display =\n",
              "    google.colab.kernel.accessAllowed ? 'block' : 'none';\n",
              "}\n",
              "\n",
              "        displayQuickchartButton(document);\n",
              "      </script>\n",
              "      <style>\n",
              "    .colab-df-container {\n",
              "      display:flex;\n",
              "      flex-wrap:wrap;\n",
              "      gap: 12px;\n",
              "    }\n",
              "\n",
              "    .colab-df-convert {\n",
              "      background-color: #E8F0FE;\n",
              "      border: none;\n",
              "      border-radius: 50%;\n",
              "      cursor: pointer;\n",
              "      display: none;\n",
              "      fill: #1967D2;\n",
              "      height: 32px;\n",
              "      padding: 0 0 0 0;\n",
              "      width: 32px;\n",
              "    }\n",
              "\n",
              "    .colab-df-convert:hover {\n",
              "      background-color: #E2EBFA;\n",
              "      box-shadow: 0px 1px 2px rgba(60, 64, 67, 0.3), 0px 1px 3px 1px rgba(60, 64, 67, 0.15);\n",
              "      fill: #174EA6;\n",
              "    }\n",
              "\n",
              "    [theme=dark] .colab-df-convert {\n",
              "      background-color: #3B4455;\n",
              "      fill: #D2E3FC;\n",
              "    }\n",
              "\n",
              "    [theme=dark] .colab-df-convert:hover {\n",
              "      background-color: #434B5C;\n",
              "      box-shadow: 0px 1px 3px 1px rgba(0, 0, 0, 0.15);\n",
              "      filter: drop-shadow(0px 1px 2px rgba(0, 0, 0, 0.3));\n",
              "      fill: #FFFFFF;\n",
              "    }\n",
              "  </style>\n",
              "\n",
              "      <script>\n",
              "        const buttonEl =\n",
              "          document.querySelector('#df-283bff1a-1e0b-44fa-9f0e-fff9e19e9671 button.colab-df-convert');\n",
              "        buttonEl.style.display =\n",
              "          google.colab.kernel.accessAllowed ? 'block' : 'none';\n",
              "\n",
              "        async function convertToInteractive(key) {\n",
              "          const element = document.querySelector('#df-283bff1a-1e0b-44fa-9f0e-fff9e19e9671');\n",
              "          const dataTable =\n",
              "            await google.colab.kernel.invokeFunction('convertToInteractive',\n",
              "                                                     [key], {});\n",
              "          if (!dataTable) return;\n",
              "\n",
              "          const docLinkHtml = 'Like what you see? Visit the ' +\n",
              "            '<a target=\"_blank\" href=https://colab.research.google.com/notebooks/data_table.ipynb>data table notebook</a>'\n",
              "            + ' to learn more about interactive tables.';\n",
              "          element.innerHTML = '';\n",
              "          dataTable['output_type'] = 'display_data';\n",
              "          await google.colab.output.renderOutput(dataTable, element);\n",
              "          const docLink = document.createElement('div');\n",
              "          docLink.innerHTML = docLinkHtml;\n",
              "          element.appendChild(docLink);\n",
              "        }\n",
              "      </script>\n",
              "    </div>\n",
              "  </div>\n"
            ]
          },
          "metadata": {},
          "execution_count": 11
        }
      ]
    },
    {
      "cell_type": "code",
      "source": [
        "# Resuffling the dataset\n",
        "df = df.sample(frac = 1)"
      ],
      "metadata": {
        "id": "VBHIJBOVytGD"
      },
      "execution_count": null,
      "outputs": []
    },
    {
      "cell_type": "code",
      "source": [
        "df.head(20)"
      ],
      "metadata": {
        "colab": {
          "base_uri": "https://localhost:8080/",
          "height": 676
        },
        "id": "tIE4BzsezhPo",
        "outputId": "450052ca-307b-41b7-c923-5555dfe166e3"
      },
      "execution_count": null,
      "outputs": [
        {
          "output_type": "execute_result",
          "data": {
            "text/plain": [
              "                                            filepath label\n",
              "2610  /content/digit_image_dataset/Dataset/5/424.png     5\n",
              "314   /content/digit_image_dataset/Dataset/0/317.png     0\n",
              "5203  /content/digit_image_dataset/Dataset/_/311.png     _\n",
              "5286  /content/digit_image_dataset/Dataset/_/262.png     _\n",
              "3886  /content/digit_image_dataset/Dataset/7/328.png     7\n",
              "943   /content/digit_image_dataset/Dataset/1/340.png     1\n",
              "458   /content/digit_image_dataset/Dataset/0/467.png     0\n",
              "2261  /content/digit_image_dataset/Dataset/4/451.png     4\n",
              "3150  /content/digit_image_dataset/Dataset/6/372.png     6\n",
              "2150  /content/digit_image_dataset/Dataset/4/372.png     4\n",
              "555    /content/digit_image_dataset/Dataset/1/48.png     1\n",
              "2491  /content/digit_image_dataset/Dataset/4/175.png     4\n",
              "2245   /content/digit_image_dataset/Dataset/4/29.png     4\n",
              "3709  /content/digit_image_dataset/Dataset/7/346.png     7\n",
              "1673  /content/digit_image_dataset/Dataset/3/244.png     3\n",
              "988   /content/digit_image_dataset/Dataset/1/385.png     1\n",
              "4194  /content/digit_image_dataset/Dataset/8/338.png     8\n",
              "402    /content/digit_image_dataset/Dataset/0/60.png     0\n",
              "4051  /content/digit_image_dataset/Dataset/8/375.png     8\n",
              "108    /content/digit_image_dataset/Dataset/0/24.png     0"
            ],
            "text/html": [
              "\n",
              "\n",
              "  <div id=\"df-d530c6fd-afd2-4859-bf67-9a89e74734c8\">\n",
              "    <div class=\"colab-df-container\">\n",
              "      <div>\n",
              "<style scoped>\n",
              "    .dataframe tbody tr th:only-of-type {\n",
              "        vertical-align: middle;\n",
              "    }\n",
              "\n",
              "    .dataframe tbody tr th {\n",
              "        vertical-align: top;\n",
              "    }\n",
              "\n",
              "    .dataframe thead th {\n",
              "        text-align: right;\n",
              "    }\n",
              "</style>\n",
              "<table border=\"1\" class=\"dataframe\">\n",
              "  <thead>\n",
              "    <tr style=\"text-align: right;\">\n",
              "      <th></th>\n",
              "      <th>filepath</th>\n",
              "      <th>label</th>\n",
              "    </tr>\n",
              "  </thead>\n",
              "  <tbody>\n",
              "    <tr>\n",
              "      <th>2610</th>\n",
              "      <td>/content/digit_image_dataset/Dataset/5/424.png</td>\n",
              "      <td>5</td>\n",
              "    </tr>\n",
              "    <tr>\n",
              "      <th>314</th>\n",
              "      <td>/content/digit_image_dataset/Dataset/0/317.png</td>\n",
              "      <td>0</td>\n",
              "    </tr>\n",
              "    <tr>\n",
              "      <th>5203</th>\n",
              "      <td>/content/digit_image_dataset/Dataset/_/311.png</td>\n",
              "      <td>_</td>\n",
              "    </tr>\n",
              "    <tr>\n",
              "      <th>5286</th>\n",
              "      <td>/content/digit_image_dataset/Dataset/_/262.png</td>\n",
              "      <td>_</td>\n",
              "    </tr>\n",
              "    <tr>\n",
              "      <th>3886</th>\n",
              "      <td>/content/digit_image_dataset/Dataset/7/328.png</td>\n",
              "      <td>7</td>\n",
              "    </tr>\n",
              "    <tr>\n",
              "      <th>943</th>\n",
              "      <td>/content/digit_image_dataset/Dataset/1/340.png</td>\n",
              "      <td>1</td>\n",
              "    </tr>\n",
              "    <tr>\n",
              "      <th>458</th>\n",
              "      <td>/content/digit_image_dataset/Dataset/0/467.png</td>\n",
              "      <td>0</td>\n",
              "    </tr>\n",
              "    <tr>\n",
              "      <th>2261</th>\n",
              "      <td>/content/digit_image_dataset/Dataset/4/451.png</td>\n",
              "      <td>4</td>\n",
              "    </tr>\n",
              "    <tr>\n",
              "      <th>3150</th>\n",
              "      <td>/content/digit_image_dataset/Dataset/6/372.png</td>\n",
              "      <td>6</td>\n",
              "    </tr>\n",
              "    <tr>\n",
              "      <th>2150</th>\n",
              "      <td>/content/digit_image_dataset/Dataset/4/372.png</td>\n",
              "      <td>4</td>\n",
              "    </tr>\n",
              "    <tr>\n",
              "      <th>555</th>\n",
              "      <td>/content/digit_image_dataset/Dataset/1/48.png</td>\n",
              "      <td>1</td>\n",
              "    </tr>\n",
              "    <tr>\n",
              "      <th>2491</th>\n",
              "      <td>/content/digit_image_dataset/Dataset/4/175.png</td>\n",
              "      <td>4</td>\n",
              "    </tr>\n",
              "    <tr>\n",
              "      <th>2245</th>\n",
              "      <td>/content/digit_image_dataset/Dataset/4/29.png</td>\n",
              "      <td>4</td>\n",
              "    </tr>\n",
              "    <tr>\n",
              "      <th>3709</th>\n",
              "      <td>/content/digit_image_dataset/Dataset/7/346.png</td>\n",
              "      <td>7</td>\n",
              "    </tr>\n",
              "    <tr>\n",
              "      <th>1673</th>\n",
              "      <td>/content/digit_image_dataset/Dataset/3/244.png</td>\n",
              "      <td>3</td>\n",
              "    </tr>\n",
              "    <tr>\n",
              "      <th>988</th>\n",
              "      <td>/content/digit_image_dataset/Dataset/1/385.png</td>\n",
              "      <td>1</td>\n",
              "    </tr>\n",
              "    <tr>\n",
              "      <th>4194</th>\n",
              "      <td>/content/digit_image_dataset/Dataset/8/338.png</td>\n",
              "      <td>8</td>\n",
              "    </tr>\n",
              "    <tr>\n",
              "      <th>402</th>\n",
              "      <td>/content/digit_image_dataset/Dataset/0/60.png</td>\n",
              "      <td>0</td>\n",
              "    </tr>\n",
              "    <tr>\n",
              "      <th>4051</th>\n",
              "      <td>/content/digit_image_dataset/Dataset/8/375.png</td>\n",
              "      <td>8</td>\n",
              "    </tr>\n",
              "    <tr>\n",
              "      <th>108</th>\n",
              "      <td>/content/digit_image_dataset/Dataset/0/24.png</td>\n",
              "      <td>0</td>\n",
              "    </tr>\n",
              "  </tbody>\n",
              "</table>\n",
              "</div>\n",
              "      <button class=\"colab-df-convert\" onclick=\"convertToInteractive('df-d530c6fd-afd2-4859-bf67-9a89e74734c8')\"\n",
              "              title=\"Convert this dataframe to an interactive table.\"\n",
              "              style=\"display:none;\">\n",
              "\n",
              "  <svg xmlns=\"http://www.w3.org/2000/svg\" height=\"24px\"viewBox=\"0 0 24 24\"\n",
              "       width=\"24px\">\n",
              "    <path d=\"M0 0h24v24H0V0z\" fill=\"none\"/>\n",
              "    <path d=\"M18.56 5.44l.94 2.06.94-2.06 2.06-.94-2.06-.94-.94-2.06-.94 2.06-2.06.94zm-11 1L8.5 8.5l.94-2.06 2.06-.94-2.06-.94L8.5 2.5l-.94 2.06-2.06.94zm10 10l.94 2.06.94-2.06 2.06-.94-2.06-.94-.94-2.06-.94 2.06-2.06.94z\"/><path d=\"M17.41 7.96l-1.37-1.37c-.4-.4-.92-.59-1.43-.59-.52 0-1.04.2-1.43.59L10.3 9.45l-7.72 7.72c-.78.78-.78 2.05 0 2.83L4 21.41c.39.39.9.59 1.41.59.51 0 1.02-.2 1.41-.59l7.78-7.78 2.81-2.81c.8-.78.8-2.07 0-2.86zM5.41 20L4 18.59l7.72-7.72 1.47 1.35L5.41 20z\"/>\n",
              "  </svg>\n",
              "      </button>\n",
              "\n",
              "\n",
              "\n",
              "    <div id=\"df-533c2a8e-2a8c-4edb-b5a0-f5f3754c128a\">\n",
              "      <button class=\"colab-df-quickchart\" onclick=\"quickchart('df-533c2a8e-2a8c-4edb-b5a0-f5f3754c128a')\"\n",
              "              title=\"Suggest charts.\"\n",
              "              style=\"display:none;\">\n",
              "\n",
              "<svg xmlns=\"http://www.w3.org/2000/svg\" height=\"24px\"viewBox=\"0 0 24 24\"\n",
              "     width=\"24px\">\n",
              "    <g>\n",
              "        <path d=\"M19 3H5c-1.1 0-2 .9-2 2v14c0 1.1.9 2 2 2h14c1.1 0 2-.9 2-2V5c0-1.1-.9-2-2-2zM9 17H7v-7h2v7zm4 0h-2V7h2v10zm4 0h-2v-4h2v4z\"/>\n",
              "    </g>\n",
              "</svg>\n",
              "      </button>\n",
              "    </div>\n",
              "\n",
              "<style>\n",
              "  .colab-df-quickchart {\n",
              "    background-color: #E8F0FE;\n",
              "    border: none;\n",
              "    border-radius: 50%;\n",
              "    cursor: pointer;\n",
              "    display: none;\n",
              "    fill: #1967D2;\n",
              "    height: 32px;\n",
              "    padding: 0 0 0 0;\n",
              "    width: 32px;\n",
              "  }\n",
              "\n",
              "  .colab-df-quickchart:hover {\n",
              "    background-color: #E2EBFA;\n",
              "    box-shadow: 0px 1px 2px rgba(60, 64, 67, 0.3), 0px 1px 3px 1px rgba(60, 64, 67, 0.15);\n",
              "    fill: #174EA6;\n",
              "  }\n",
              "\n",
              "  [theme=dark] .colab-df-quickchart {\n",
              "    background-color: #3B4455;\n",
              "    fill: #D2E3FC;\n",
              "  }\n",
              "\n",
              "  [theme=dark] .colab-df-quickchart:hover {\n",
              "    background-color: #434B5C;\n",
              "    box-shadow: 0px 1px 3px 1px rgba(0, 0, 0, 0.15);\n",
              "    filter: drop-shadow(0px 1px 2px rgba(0, 0, 0, 0.3));\n",
              "    fill: #FFFFFF;\n",
              "  }\n",
              "</style>\n",
              "\n",
              "    <script>\n",
              "      async function quickchart(key) {\n",
              "        const containerElement = document.querySelector('#' + key);\n",
              "        const charts = await google.colab.kernel.invokeFunction(\n",
              "            'suggestCharts', [key], {});\n",
              "      }\n",
              "    </script>\n",
              "\n",
              "      <script>\n",
              "\n",
              "function displayQuickchartButton(domScope) {\n",
              "  let quickchartButtonEl =\n",
              "    domScope.querySelector('#df-533c2a8e-2a8c-4edb-b5a0-f5f3754c128a button.colab-df-quickchart');\n",
              "  quickchartButtonEl.style.display =\n",
              "    google.colab.kernel.accessAllowed ? 'block' : 'none';\n",
              "}\n",
              "\n",
              "        displayQuickchartButton(document);\n",
              "      </script>\n",
              "      <style>\n",
              "    .colab-df-container {\n",
              "      display:flex;\n",
              "      flex-wrap:wrap;\n",
              "      gap: 12px;\n",
              "    }\n",
              "\n",
              "    .colab-df-convert {\n",
              "      background-color: #E8F0FE;\n",
              "      border: none;\n",
              "      border-radius: 50%;\n",
              "      cursor: pointer;\n",
              "      display: none;\n",
              "      fill: #1967D2;\n",
              "      height: 32px;\n",
              "      padding: 0 0 0 0;\n",
              "      width: 32px;\n",
              "    }\n",
              "\n",
              "    .colab-df-convert:hover {\n",
              "      background-color: #E2EBFA;\n",
              "      box-shadow: 0px 1px 2px rgba(60, 64, 67, 0.3), 0px 1px 3px 1px rgba(60, 64, 67, 0.15);\n",
              "      fill: #174EA6;\n",
              "    }\n",
              "\n",
              "    [theme=dark] .colab-df-convert {\n",
              "      background-color: #3B4455;\n",
              "      fill: #D2E3FC;\n",
              "    }\n",
              "\n",
              "    [theme=dark] .colab-df-convert:hover {\n",
              "      background-color: #434B5C;\n",
              "      box-shadow: 0px 1px 3px 1px rgba(0, 0, 0, 0.15);\n",
              "      filter: drop-shadow(0px 1px 2px rgba(0, 0, 0, 0.3));\n",
              "      fill: #FFFFFF;\n",
              "    }\n",
              "  </style>\n",
              "\n",
              "      <script>\n",
              "        const buttonEl =\n",
              "          document.querySelector('#df-d530c6fd-afd2-4859-bf67-9a89e74734c8 button.colab-df-convert');\n",
              "        buttonEl.style.display =\n",
              "          google.colab.kernel.accessAllowed ? 'block' : 'none';\n",
              "\n",
              "        async function convertToInteractive(key) {\n",
              "          const element = document.querySelector('#df-d530c6fd-afd2-4859-bf67-9a89e74734c8');\n",
              "          const dataTable =\n",
              "            await google.colab.kernel.invokeFunction('convertToInteractive',\n",
              "                                                     [key], {});\n",
              "          if (!dataTable) return;\n",
              "\n",
              "          const docLinkHtml = 'Like what you see? Visit the ' +\n",
              "            '<a target=\"_blank\" href=https://colab.research.google.com/notebooks/data_table.ipynb>data table notebook</a>'\n",
              "            + ' to learn more about interactive tables.';\n",
              "          element.innerHTML = '';\n",
              "          dataTable['output_type'] = 'display_data';\n",
              "          await google.colab.output.renderOutput(dataTable, element);\n",
              "          const docLink = document.createElement('div');\n",
              "          docLink.innerHTML = docLinkHtml;\n",
              "          element.appendChild(docLink);\n",
              "        }\n",
              "      </script>\n",
              "    </div>\n",
              "  </div>\n"
            ]
          },
          "metadata": {},
          "execution_count": 13
        }
      ]
    },
    {
      "cell_type": "code",
      "source": [
        "# Checking balancing of dataset\n",
        "df['label'].value_counts()"
      ],
      "metadata": {
        "colab": {
          "base_uri": "https://localhost:8080/"
        },
        "id": "ZSYXKEtI-HcT",
        "outputId": "8ee272ed-706f-4a97-edcd-b6efdc8082da"
      },
      "execution_count": null,
      "outputs": [
        {
          "output_type": "execute_result",
          "data": {
            "text/plain": [
              "5    500\n",
              "0    500\n",
              "_    500\n",
              "7    500\n",
              "1    500\n",
              "4    500\n",
              "6    500\n",
              "3    500\n",
              "8    500\n",
              "2    500\n",
              "9    500\n",
              "Name: label, dtype: int64"
            ]
          },
          "metadata": {},
          "execution_count": 14
        }
      ]
    },
    {
      "cell_type": "markdown",
      "source": [
        "Quite Balanced"
      ],
      "metadata": {
        "id": "ge096fk60B4I"
      }
    },
    {
      "cell_type": "markdown",
      "source": [
        "# **2. Dataset Preprocessing**"
      ],
      "metadata": {
        "id": "a4pLcQNG_9Zr"
      }
    },
    {
      "cell_type": "markdown",
      "source": [
        "## **2.1 Splitting of dataset**"
      ],
      "metadata": {
        "id": "KK-e99sJFsjU"
      }
    },
    {
      "cell_type": "code",
      "source": [
        "from sklearn.model_selection import train_test_split\n",
        "from keras.preprocessing.image import ImageDataGenerator"
      ],
      "metadata": {
        "id": "tn3ZIOqC-teq"
      },
      "execution_count": null,
      "outputs": []
    },
    {
      "cell_type": "markdown",
      "source": [
        "### 2.1.1 Splitting dataset into training and testing"
      ],
      "metadata": {
        "id": "hA2kgCo00OwH"
      }
    },
    {
      "cell_type": "code",
      "source": [
        "train_X, test_X = train_test_split(df,test_size = 0.2,random_state=21)"
      ],
      "metadata": {
        "id": "2aV5w6Hg-l0k"
      },
      "execution_count": null,
      "outputs": []
    },
    {
      "cell_type": "markdown",
      "source": [
        "### 2.1.2 Further Splitting training dataset into training and validation"
      ],
      "metadata": {
        "id": "aMdf4-fk0Yrk"
      }
    },
    {
      "cell_type": "code",
      "source": [
        "train_X, val_X = train_test_split(train_X,test_size=0.2,random_state = 21)"
      ],
      "metadata": {
        "id": "IZrL5HSI5V-H"
      },
      "execution_count": null,
      "outputs": []
    },
    {
      "cell_type": "markdown",
      "source": [
        "## **2.2 Image Data generator**"
      ],
      "metadata": {
        "id": "7-q5hs5bFyO0"
      }
    },
    {
      "cell_type": "markdown",
      "source": [
        "### 2.2.1 Training Image Data Generator"
      ],
      "metadata": {
        "id": "mSqFi00n0kvN"
      }
    },
    {
      "cell_type": "code",
      "source": [
        "generator = ImageDataGenerator(validation_split = 0)\n",
        "train_generator = generator.flow_from_dataframe(train_X,directory=None,  target_size = (100,100), class_mode = 'categorical',\n",
        "                                                x_col = 'filepath' , y_col= 'label',batch_size=32)"
      ],
      "metadata": {
        "colab": {
          "base_uri": "https://localhost:8080/"
        },
        "id": "naHDXk0H5S33",
        "outputId": "687957ba-07c3-4a4d-a7ed-c374370b7acf"
      },
      "execution_count": null,
      "outputs": [
        {
          "output_type": "stream",
          "name": "stdout",
          "text": [
            "Found 3520 validated image filenames belonging to 11 classes.\n"
          ]
        }
      ]
    },
    {
      "cell_type": "markdown",
      "source": [
        "### 2.2.2 Testing Image Data Generator"
      ],
      "metadata": {
        "id": "NDkEEatK0re0"
      }
    },
    {
      "cell_type": "code",
      "source": [
        "test_generator = generator.flow_from_dataframe(test_X,directory=None,  target_size = (100,100), class_mode = 'categorical',\n",
        "                                                x_col = 'filepath' , y_col= 'label',batch_size=1)"
      ],
      "metadata": {
        "colab": {
          "base_uri": "https://localhost:8080/"
        },
        "id": "e_Z7js9U_Uxy",
        "outputId": "bec03e57-963f-4b95-da40-f63af750832d"
      },
      "execution_count": null,
      "outputs": [
        {
          "output_type": "stream",
          "name": "stdout",
          "text": [
            "Found 1100 validated image filenames belonging to 11 classes.\n"
          ]
        }
      ]
    },
    {
      "cell_type": "markdown",
      "source": [
        "### 2.2.3 Validation Image Data Generator"
      ],
      "metadata": {
        "id": "coPaguIT0tAN"
      }
    },
    {
      "cell_type": "code",
      "source": [
        "val_generator = generator.flow_from_dataframe(val_X , target_size = (100,100), class_mode = 'categorical',\n",
        "                                              x_col = 'filepath' , y_col = 'label' , batch_size = 1)"
      ],
      "metadata": {
        "colab": {
          "base_uri": "https://localhost:8080/"
        },
        "id": "UM9YlguV5sAp",
        "outputId": "748d6972-cb5c-49de-8dc8-5bfa09577840"
      },
      "execution_count": null,
      "outputs": [
        {
          "output_type": "stream",
          "name": "stdout",
          "text": [
            "Found 880 validated image filenames belonging to 11 classes.\n"
          ]
        }
      ]
    },
    {
      "cell_type": "markdown",
      "source": [
        "### 2.2.4 Generator Testing"
      ],
      "metadata": {
        "id": "CLZzt13RF3r0"
      }
    },
    {
      "cell_type": "code",
      "source": [
        "cv2_imshow(train_generator[0][0][0])"
      ],
      "metadata": {
        "colab": {
          "base_uri": "https://localhost:8080/",
          "height": 117
        },
        "id": "mo479EbI8tZ3",
        "outputId": "ffa89e54-d028-4eb4-9719-b9c311097870"
      },
      "execution_count": null,
      "outputs": [
        {
          "output_type": "display_data",
          "data": {
            "text/plain": [
              "<PIL.Image.Image image mode=RGB size=100x100 at 0x78F5AF1BAF50>"
            ],
            "image/png": "[encoded data removed]"
          },
          "metadata": {}
        }
      ]
    },
    {
      "cell_type": "code",
      "source": [
        "train_generator[0][1][0]   # True Y of above image"
      ],
      "metadata": {
        "colab": {
          "base_uri": "https://localhost:8080/"
        },
        "id": "5geW4vRL9Jx3",
        "outputId": "7df25d69-cf5f-4818-8f8a-96bbe3ff1564"
      },
      "execution_count": null,
      "outputs": [
        {
          "output_type": "execute_result",
          "data": {
            "text/plain": [
              "array([0., 0., 0., 1., 0., 0., 0., 0., 0., 0., 0.], dtype=float32)"
            ]
          },
          "metadata": {},
          "execution_count": 23
        }
      ]
    },
    {
      "cell_type": "markdown",
      "source": [
        "# **3. Model**"
      ],
      "metadata": {
        "id": "1q5TYcRvAENF"
      }
    },
    {
      "cell_type": "markdown",
      "source": [
        "## **3.1 Model Creation**"
      ],
      "metadata": {
        "id": "3WYIslLUGa_A"
      }
    },
    {
      "cell_type": "code",
      "source": [
        "from keras.models import Sequential\n",
        "from keras.activations import relu,linear\n",
        "from keras.layers import Conv2D, Flatten, Dense, MaxPool2D, Dropout, InputLayer"
      ],
      "metadata": {
        "id": "yfC-i6va0Ejl"
      },
      "execution_count": null,
      "outputs": []
    },
    {
      "cell_type": "code",
      "source": [
        "model = Sequential()\n",
        "model.add(Conv2D(32,(3,3),activation = 'relu',input_shape = (100,100,3)))\n",
        "model.add(Conv2D(64,(5,5),activation = 'relu'))\n",
        "model.add(Dropout(0.2))\n",
        "model.add(MaxPool2D(pool_size = (2,2)))\n",
        "model.add(Conv2D(16,(3,3),activation = 'relu'))\n",
        "model.add(Dropout(0.5))\n",
        "model.add(Flatten())\n",
        "model.add(Dense(11,activation = 'softmax'))\n",
        "model.summary()"
      ],
      "metadata": {
        "id": "1kyhwy1l0498",
        "colab": {
          "base_uri": "https://localhost:8080/"
        },
        "outputId": "20c7a150-5415-45b4-fe65-3581cf6d8595"
      },
      "execution_count": null,
      "outputs": [
        {
          "output_type": "stream",
          "name": "stdout",
          "text": [
            "Model: \"sequential\"\n",
            "_________________________________________________________________\n",
            " Layer (type)                Output Shape              Param #   \n",
            "=================================================================\n",
            " conv2d (Conv2D)             (None, 98, 98, 32)        896       \n",
            "                                                                 \n",
            " conv2d_1 (Conv2D)           (None, 94, 94, 64)        51264     \n",
            "                                                                 \n",
            " dropout (Dropout)           (None, 94, 94, 64)        0         \n",
            "                                                                 \n",
            " max_pooling2d (MaxPooling2D  (None, 47, 47, 64)       0         \n",
            " )                                                               \n",
            "                                                                 \n",
            " conv2d_2 (Conv2D)           (None, 45, 45, 16)        9232      \n",
            "                                                                 \n",
            " dropout_1 (Dropout)         (None, 45, 45, 16)        0         \n",
            "                                                                 \n",
            " flatten (Flatten)           (None, 32400)             0         \n",
            "                                                                 \n",
            " dense (Dense)               (None, 11)                356411    \n",
            "                                                                 \n",
            "=================================================================\n",
            "Total params: 417,803\n",
            "Trainable params: 417,803\n",
            "Non-trainable params: 0\n",
            "_________________________________________________________________\n"
          ]
        }
      ]
    },
    {
      "cell_type": "code",
      "source": [
        "model.compile(optimizer='Adam',loss = 'categorical_crossentropy',metrics= ['accuracy'])"
      ],
      "metadata": {
        "id": "B2ecg0EbAVrN"
      },
      "execution_count": null,
      "outputs": []
    },
    {
      "cell_type": "markdown",
      "source": [
        "## **3.2 Model Fitting**"
      ],
      "metadata": {
        "id": "1ZiszDtgGlwy"
      }
    },
    {
      "cell_type": "code",
      "source": [
        "model.fit(train_generator,validation_data = val_generator ,epochs = 14)"
      ],
      "metadata": {
        "id": "cEwdEcRyAVlG",
        "colab": {
          "base_uri": "https://localhost:8080/"
        },
        "outputId": "1a5898f3-b71a-4cff-a634-7377ee7e2862"
      },
      "execution_count": null,
      "outputs": [
        {
          "output_type": "stream",
          "name": "stdout",
          "text": [
            "Epoch 1/14\n",
            "110/110 [==============================] - 19s 66ms/step - loss: 1.7942 - accuracy: 0.7875 - val_loss: 0.3266 - val_accuracy: 0.9159\n",
            "Epoch 2/14\n",
            "110/110 [==============================] - 6s 53ms/step - loss: 0.2224 - accuracy: 0.9384 - val_loss: 0.2022 - val_accuracy: 0.9398\n",
            "Epoch 3/14\n",
            "110/110 [==============================] - 7s 64ms/step - loss: 0.1282 - accuracy: 0.9580 - val_loss: 0.1896 - val_accuracy: 0.9432\n",
            "Epoch 4/14\n",
            "110/110 [==============================] - 6s 56ms/step - loss: 0.0974 - accuracy: 0.9670 - val_loss: 0.2073 - val_accuracy: 0.9364\n",
            "Epoch 5/14\n",
            "110/110 [==============================] - 7s 64ms/step - loss: 0.0716 - accuracy: 0.9764 - val_loss: 0.2182 - val_accuracy: 0.9307\n",
            "Epoch 6/14\n",
            "110/110 [==============================] - 7s 60ms/step - loss: 0.0686 - accuracy: 0.9770 - val_loss: 0.1992 - val_accuracy: 0.9466\n",
            "Epoch 7/14\n",
            "110/110 [==============================] - 7s 59ms/step - loss: 0.0499 - accuracy: 0.9841 - val_loss: 0.1956 - val_accuracy: 0.9420\n",
            "Epoch 8/14\n",
            "110/110 [==============================] - 7s 65ms/step - loss: 0.0325 - accuracy: 0.9895 - val_loss: 0.1964 - val_accuracy: 0.9432\n",
            "Epoch 9/14\n",
            "110/110 [==============================] - 6s 56ms/step - loss: 0.0431 - accuracy: 0.9832 - val_loss: 0.3022 - val_accuracy: 0.9261\n",
            "Epoch 10/14\n",
            "110/110 [==============================] - 9s 80ms/step - loss: 0.0483 - accuracy: 0.9861 - val_loss: 0.1845 - val_accuracy: 0.9500\n",
            "Epoch 11/14\n",
            "110/110 [==============================] - 6s 54ms/step - loss: 0.0210 - accuracy: 0.9918 - val_loss: 0.2156 - val_accuracy: 0.9489\n",
            "Epoch 12/14\n",
            "110/110 [==============================] - 6s 54ms/step - loss: 0.0251 - accuracy: 0.9915 - val_loss: 0.2594 - val_accuracy: 0.9477\n",
            "Epoch 13/14\n",
            "110/110 [==============================] - 10s 89ms/step - loss: 0.0487 - accuracy: 0.9875 - val_loss: 0.2280 - val_accuracy: 0.9409\n",
            "Epoch 14/14\n",
            "110/110 [==============================] - 14s 132ms/step - loss: 0.0281 - accuracy: 0.9912 - val_loss: 0.2526 - val_accuracy: 0.9443\n"
          ]
        },
        {
          "output_type": "execute_result",
          "data": {
            "text/plain": [
              "<keras.callbacks.History at 0x78f5501df5b0>"
            ]
          },
          "metadata": {},
          "execution_count": 27
        }
      ]
    },
    {
      "cell_type": "markdown",
      "source": [
        "## **3.3 Model Saving**"
      ],
      "metadata": {
        "id": "vpGZ2EyW1nSm"
      }
    },
    {
      "cell_type": "code",
      "source": [
        "model.save('model-1.h5')"
      ],
      "metadata": {
        "id": "DI2gKu_IAVe1"
      },
      "execution_count": null,
      "outputs": []
    },
    {
      "cell_type": "code",
      "source": [
        "model.load('model-1.h5')"
      ],
      "metadata": {
        "id": "aGMnTo_F_2bH"
      },
      "execution_count": null,
      "outputs": []
    },
    {
      "cell_type": "markdown",
      "source": [
        "# **4. Testing of Model**"
      ],
      "metadata": {
        "id": "EqIE1l-JGs6C"
      }
    },
    {
      "cell_type": "markdown",
      "source": [
        "## **4.1 1st test**"
      ],
      "metadata": {
        "id": "PQJnbk2CG8p9"
      }
    },
    {
      "cell_type": "markdown",
      "source": [
        "### Testing Image"
      ],
      "metadata": {
        "id": "Ki7VMz8a16C-"
      }
    },
    {
      "cell_type": "code",
      "source": [
        "cv2_imshow(test_generator[2][0][0])"
      ],
      "metadata": {
        "colab": {
          "base_uri": "https://localhost:8080/",
          "height": 117
        },
        "id": "_ClcL0llAgZg",
        "outputId": "feafdb3c-5bc9-45e7-c01d-1e5c248cb02f"
      },
      "execution_count": null,
      "outputs": [
        {
          "output_type": "display_data",
          "data": {
            "text/plain": [
              "<PIL.Image.Image image mode=RGB size=100x100 at 0x78F540DAB550>"
            ],
            "image/png": "[encoded data removed]"
          },
          "metadata": {}
        }
      ]
    },
    {
      "cell_type": "markdown",
      "source": [
        "### Testing Image Shape"
      ],
      "metadata": {
        "id": "F2Zs9qZP2FNk"
      }
    },
    {
      "cell_type": "code",
      "source": [
        "test_generator[2][0][0].shape"
      ],
      "metadata": {
        "colab": {
          "base_uri": "https://localhost:8080/"
        },
        "id": "FG7qn-ghBUIU",
        "outputId": "bdfeb971-6353-4c64-e663-49ce3e2a13cf"
      },
      "execution_count": null,
      "outputs": [
        {
          "output_type": "execute_result",
          "data": {
            "text/plain": [
              "(100, 100, 3)"
            ]
          },
          "metadata": {},
          "execution_count": 30
        }
      ]
    },
    {
      "cell_type": "markdown",
      "source": [
        "### True Output"
      ],
      "metadata": {
        "id": "mZBdmk1p2KRL"
      }
    },
    {
      "cell_type": "code",
      "source": [
        "np.argmax(test_generator[2][1][0])   # 10 means blank image or non digit image"
      ],
      "metadata": {
        "colab": {
          "base_uri": "https://localhost:8080/"
        },
        "id": "SEdkI8ktAuLj",
        "outputId": "c20b4510-43a7-4469-d395-177a73305152"
      },
      "execution_count": null,
      "outputs": [
        {
          "output_type": "execute_result",
          "data": {
            "text/plain": [
              "10"
            ]
          },
          "metadata": {},
          "execution_count": 33
        }
      ]
    },
    {
      "cell_type": "markdown",
      "source": [
        "### Predictions"
      ],
      "metadata": {
        "id": "wFEYArsp2Pvy"
      }
    },
    {
      "cell_type": "code",
      "source": [
        "np.argmax(model.predict(np.resize(test_generator[2][0][0],(1,100,100,3)),verbose = 0))"
      ],
      "metadata": {
        "colab": {
          "base_uri": "https://localhost:8080/"
        },
        "id": "ABeD9IAD-nzC",
        "outputId": "8c8a7c4d-97d6-4cc8-e03b-6bf31ffebf4b"
      },
      "execution_count": null,
      "outputs": [
        {
          "output_type": "execute_result",
          "data": {
            "text/plain": [
              "10"
            ]
          },
          "metadata": {},
          "execution_count": 32
        }
      ]
    },
    {
      "cell_type": "markdown",
      "source": [
        "## **4.2 2nd test**"
      ],
      "metadata": {
        "id": "o4upnw30AFUl"
      }
    },
    {
      "cell_type": "markdown",
      "source": [
        "### Testing Image"
      ],
      "metadata": {
        "id": "WRhIU2XYAFUs"
      }
    },
    {
      "cell_type": "code",
      "source": [
        "cv2_imshow(test_generator[20][0][0])"
      ],
      "metadata": {
        "colab": {
          "base_uri": "https://localhost:8080/",
          "height": 117
        },
        "outputId": "61c347ab-63b7-43fd-a55d-d6628a14564c",
        "id": "S8RQMcSbAFUs"
      },
      "execution_count": null,
      "outputs": [
        {
          "output_type": "display_data",
          "data": {
            "text/plain": [
              "<PIL.Image.Image image mode=RGB size=100x100 at 0x78F540DAB010>"
            ],
            "image/png": "[encoded data removed]"
          },
          "metadata": {}
        }
      ]
    },
    {
      "cell_type": "markdown",
      "source": [
        "### Testing Image Shape"
      ],
      "metadata": {
        "id": "Mm8pZSTOAFUs"
      }
    },
    {
      "cell_type": "code",
      "source": [
        "test_generator[20][0][0].shape"
      ],
      "metadata": {
        "colab": {
          "base_uri": "https://localhost:8080/"
        },
        "outputId": "2dded50f-9c98-4391-e88d-05657e7b1e77",
        "id": "N0z1_qFOAFUt"
      },
      "execution_count": null,
      "outputs": [
        {
          "output_type": "execute_result",
          "data": {
            "text/plain": [
              "(100, 100, 3)"
            ]
          },
          "metadata": {},
          "execution_count": 45
        }
      ]
    },
    {
      "cell_type": "markdown",
      "source": [
        "### True Output"
      ],
      "metadata": {
        "id": "bF2qbnGpAFUt"
      }
    },
    {
      "cell_type": "code",
      "source": [
        "np.argmax(test_generator[20][1][0])   # 10 means blank image or non digit image"
      ],
      "metadata": {
        "colab": {
          "base_uri": "https://localhost:8080/"
        },
        "outputId": "559fa77d-200f-4902-bc33-adc282f8dd8d",
        "id": "GJdkiY3lAFUt"
      },
      "execution_count": null,
      "outputs": [
        {
          "output_type": "execute_result",
          "data": {
            "text/plain": [
              "9"
            ]
          },
          "metadata": {},
          "execution_count": 46
        }
      ]
    },
    {
      "cell_type": "markdown",
      "source": [
        "### Predictions"
      ],
      "metadata": {
        "id": "RAL4meo8AFUt"
      }
    },
    {
      "cell_type": "code",
      "source": [
        "np.argmax(model.predict(np.resize(test_generator[20][0][0],(1,100,100,3)),verbose = 0))"
      ],
      "metadata": {
        "colab": {
          "base_uri": "https://localhost:8080/"
        },
        "outputId": "6ae64de2-1481-412d-bc2b-061c38811028",
        "id": "ZdHmQejjAFUt"
      },
      "execution_count": null,
      "outputs": [
        {
          "output_type": "execute_result",
          "data": {
            "text/plain": [
              "9"
            ]
          },
          "metadata": {},
          "execution_count": 47
        }
      ]
    },
    {
      "cell_type": "markdown",
      "source": [
        "## **4.3 3rd test**"
      ],
      "metadata": {
        "id": "N-EcCk1sAGzB"
      }
    },
    {
      "cell_type": "markdown",
      "source": [
        "### Testing Image"
      ],
      "metadata": {
        "id": "rZW7Vjv-AGzP"
      }
    },
    {
      "cell_type": "code",
      "source": [
        "cv2_imshow(test_generator[49][0][0])"
      ],
      "metadata": {
        "colab": {
          "base_uri": "https://localhost:8080/",
          "height": 117
        },
        "outputId": "b2b869af-9ef5-4f1c-af23-2b0e4db07a04",
        "id": "IJa31zoQAGzQ"
      },
      "execution_count": null,
      "outputs": [
        {
          "output_type": "display_data",
          "data": {
            "text/plain": [
              "<PIL.Image.Image image mode=RGB size=100x100 at 0x78F540D44FD0>"
            ],
            "image/png": "[encoded data removed]"
          },
          "metadata": {}
        }
      ]
    },
    {
      "cell_type": "markdown",
      "source": [
        "### Testing Image Shape"
      ],
      "metadata": {
        "id": "5TwBSr8cAGzQ"
      }
    },
    {
      "cell_type": "code",
      "source": [
        "test_generator[49][0][0].shape"
      ],
      "metadata": {
        "colab": {
          "base_uri": "https://localhost:8080/"
        },
        "outputId": "74687ccf-261e-459a-8ee4-b652095fd2b6",
        "id": "efkqU50yAGzQ"
      },
      "execution_count": null,
      "outputs": [
        {
          "output_type": "execute_result",
          "data": {
            "text/plain": [
              "(100, 100, 3)"
            ]
          },
          "metadata": {},
          "execution_count": 49
        }
      ]
    },
    {
      "cell_type": "markdown",
      "source": [
        "### True Output"
      ],
      "metadata": {
        "id": "DDq3S4L8AGzQ"
      }
    },
    {
      "cell_type": "code",
      "source": [
        "np.argmax(test_generator[49][1][0])   # 10 means blank image or non digit image"
      ],
      "metadata": {
        "colab": {
          "base_uri": "https://localhost:8080/"
        },
        "outputId": "b09c2de2-ef98-4aa0-e175-7baed9397eef",
        "id": "ULKeyCrHAGzQ"
      },
      "execution_count": null,
      "outputs": [
        {
          "output_type": "execute_result",
          "data": {
            "text/plain": [
              "3"
            ]
          },
          "metadata": {},
          "execution_count": 50
        }
      ]
    },
    {
      "cell_type": "markdown",
      "source": [
        "### Predictions"
      ],
      "metadata": {
        "id": "6AK11g44AGzQ"
      }
    },
    {
      "cell_type": "code",
      "source": [
        "np.argmax(model.predict(np.resize(test_generator[49][0][0],(1,100,100,3)),verbose = 0))"
      ],
      "metadata": {
        "colab": {
          "base_uri": "https://localhost:8080/"
        },
        "outputId": "73f429eb-e4d7-4fe1-b878-f4f31225be04",
        "id": "EVkOHyToAGzR"
      },
      "execution_count": null,
      "outputs": [
        {
          "output_type": "execute_result",
          "data": {
            "text/plain": [
              "3"
            ]
          },
          "metadata": {},
          "execution_count": 51
        }
      ]
    },
    {
      "cell_type": "markdown",
      "source": [
        "## **4.4 4th test**"
      ],
      "metadata": {
        "id": "hp4I3CQKHAg9"
      }
    },
    {
      "cell_type": "code",
      "source": [
        "cv2_imshow(test_generator[90][0][0])"
      ],
      "metadata": {
        "id": "1395UW0zA2Yi",
        "colab": {
          "base_uri": "https://localhost:8080/"
        },
        "outputId": "8b3cdfb6-95ce-4828-d44a-cb6e4607f640"
      },
      "execution_count": null,
      "outputs": [
        {
          "output_type": "display_data",
          "data": {
            "text/plain": [
              "<PIL.Image.Image image mode=RGB size=100x100 at 0x78F4A21A2440>"
            ],
            "image/png": "[encoded data removed]"
          },
          "metadata": {}
        }
      ]
    },
    {
      "cell_type": "code",
      "source": [
        "test_generator[90][0][0].shape"
      ],
      "metadata": {
        "colab": {
          "base_uri": "https://localhost:8080/"
        },
        "id": "dinVUMw8DHya",
        "outputId": "b130fc33-1bec-4ed4-aeff-99d47582d19c"
      },
      "execution_count": null,
      "outputs": [
        {
          "output_type": "execute_result",
          "data": {
            "text/plain": [
              "(100, 100, 3)"
            ]
          },
          "metadata": {},
          "execution_count": 58
        }
      ]
    },
    {
      "cell_type": "code",
      "source": [
        "np.argmax(model.predict(np.resize(test_generator[90][0][0],(1,100,100,3)),verbose = 0))"
      ],
      "metadata": {
        "colab": {
          "base_uri": "https://localhost:8080/"
        },
        "id": "C9XcnqTrDfll",
        "outputId": "ba4c3064-a6e8-4055-d933-65fdd9e67fd9"
      },
      "execution_count": null,
      "outputs": [
        {
          "output_type": "execute_result",
          "data": {
            "text/plain": [
              "0"
            ]
          },
          "metadata": {},
          "execution_count": 59
        }
      ]
    },
    {
      "cell_type": "code",
      "source": [],
      "metadata": {
        "id": "8ekcCNvK9iKc"
      },
      "execution_count": null,
      "outputs": []
    },
    {
      "cell_type": "markdown",
      "source": [
        "## **4.5 Getting Accuracy Score on Testing Dataset**"
      ],
      "metadata": {
        "id": "sy2X3wS7tjSg"
      }
    },
    {
      "cell_type": "code",
      "source": [
        "from tqdm import tqdm"
      ],
      "metadata": {
        "id": "qN5RAvqV6veH"
      },
      "execution_count": null,
      "outputs": []
    },
    {
      "cell_type": "markdown",
      "source": [
        "### Getting predictions on testing dataset"
      ],
      "metadata": {
        "id": "XbTf4BQ42qQ9"
      }
    },
    {
      "cell_type": "code",
      "source": [
        "y_pred = []\n",
        "for i in tqdm(range(0,1100)):\n",
        "  y_pred.append(np.argmax(model.predict(np.resize(test_generator[i][0][0],(1,100,100,3)),verbose = 0)))"
      ],
      "metadata": {
        "colab": {
          "base_uri": "https://localhost:8080/"
        },
        "id": "VZH4_kJ-AEqD",
        "outputId": "da8c25d9-af09-4245-d8d1-d554e0a6e704"
      },
      "execution_count": null,
      "outputs": [
        {
          "output_type": "stream",
          "name": "stderr",
          "text": [
            "100%|██████████| 1100/1100 [01:00<00:00, 18.22it/s]\n"
          ]
        }
      ]
    },
    {
      "cell_type": "markdown",
      "source": [
        "### True Output of Testing dataset"
      ],
      "metadata": {
        "id": "QWBOTEvB2vIb"
      }
    },
    {
      "cell_type": "code",
      "source": [
        "y_test = []\n",
        "for i in tqdm(range(0,1100)):\n",
        "  y_test.append(np.argmax(test_generator[i][1][0]))"
      ],
      "metadata": {
        "colab": {
          "base_uri": "https://localhost:8080/"
        },
        "id": "-tPIVhXZ29Uq",
        "outputId": "6a7378e9-6d34-4dea-f76a-fe2c78d8eedd"
      },
      "execution_count": null,
      "outputs": [
        {
          "output_type": "stream",
          "name": "stderr",
          "text": [
            "100%|██████████| 1100/1100 [00:00<00:00, 2753.89it/s]\n"
          ]
        }
      ]
    },
    {
      "cell_type": "code",
      "source": [
        "from sklearn.metrics import accuracy_score"
      ],
      "metadata": {
        "id": "MGq22lSn3NUh"
      },
      "execution_count": null,
      "outputs": []
    },
    {
      "cell_type": "code",
      "source": [
        "print(\"Accuracy Score : \",accuracy_score(y_test,y_pred))"
      ],
      "metadata": {
        "colab": {
          "base_uri": "https://localhost:8080/"
        },
        "id": "CIIuLpbS3R9b",
        "outputId": "eb3482a5-726f-4843-8acb-f6b3d4341fe8"
      },
      "execution_count": null,
      "outputs": [
        {
          "output_type": "stream",
          "name": "stdout",
          "text": [
            "Accuracy Score :  0.94\n"
          ]
        }
      ]
    },
    {
      "cell_type": "markdown",
      "source": [
        "# **Shap Explainer**"
      ],
      "metadata": {
        "id": "kvHDwkzNBmO9"
      }
    },
    {
      "cell_type": "code",
      "source": [
        "!pip install shap"
      ],
      "metadata": {
        "colab": {
          "base_uri": "https://localhost:8080/"
        },
        "id": "zr6eBhsMBlg8",
        "outputId": "04e2c89b-dcf7-4828-9269-0ce3e6e54845"
      },
      "execution_count": null,
      "outputs": [
        {
          "output_type": "stream",
          "name": "stdout",
          "text": [
            "Collecting shap\n",
            "  Downloading shap-0.42.1-cp310-cp310-manylinux_2_12_x86_64.manylinux2010_x86_64.manylinux_2_17_x86_64.manylinux2014_x86_64.whl (547 kB)\n",
            "\u001b[?25l     \u001b[90m━━━━━━━━━━━━━━━━━━━━━━━━━━━━━━━━━━━━━━━━\u001b[0m \u001b[32m0.0/547.9 kB\u001b[0m \u001b[31m?\u001b[0m eta \u001b[36m-:--:--\u001b[0m\r\u001b[2K     \u001b[91m━━━━━━━━━━━━━━━━━━━━━━━━━━━━━━━━━━━━━\u001b[0m\u001b[91m╸\u001b[0m \u001b[32m542.7/547.9 kB\u001b[0m \u001b[31m34.9 MB/s\u001b[0m eta \u001b[36m0:00:01\u001b[0m\r\u001b[2K     \u001b[90m━━━━━━━━━━━━━━━━━━━━━━━━━━━━━━━━━━━━━━\u001b[0m \u001b[32m547.9/547.9 kB\u001b[0m \u001b[31m11.4 MB/s\u001b[0m eta \u001b[36m0:00:00\u001b[0m\n",
            "\u001b[?25hRequirement already satisfied: numpy in /usr/local/lib/python3.10/dist-packages (from shap) (1.22.4)\n",
            "Requirement already satisfied: scipy in /usr/local/lib/python3.10/dist-packages (from shap) (1.10.1)\n",
            "Requirement already satisfied: scikit-learn in /usr/local/lib/python3.10/dist-packages (from shap) (1.2.2)\n",
            "Requirement already satisfied: pandas in /usr/local/lib/python3.10/dist-packages (from shap) (1.5.3)\n",
            "Requirement already satisfied: tqdm>=4.27.0 in /usr/local/lib/python3.10/dist-packages (from shap) (4.65.0)\n",
            "Requirement already satisfied: packaging>20.9 in /usr/local/lib/python3.10/dist-packages (from shap) (23.1)\n",
            "Collecting slicer==0.0.7 (from shap)\n",
            "  Downloading slicer-0.0.7-py3-none-any.whl (14 kB)\n",
            "Requirement already satisfied: numba in /usr/local/lib/python3.10/dist-packages (from shap) (0.56.4)\n",
            "Requirement already satisfied: cloudpickle in /usr/local/lib/python3.10/dist-packages (from shap) (2.2.1)\n",
            "Requirement already satisfied: llvmlite<0.40,>=0.39.0dev0 in /usr/local/lib/python3.10/dist-packages (from numba->shap) (0.39.1)\n",
            "Requirement already satisfied: setuptools in /usr/local/lib/python3.10/dist-packages (from numba->shap) (67.7.2)\n",
            "Requirement already satisfied: python-dateutil>=2.8.1 in /usr/local/lib/python3.10/dist-packages (from pandas->shap) (2.8.2)\n",
            "Requirement already satisfied: pytz>=2020.1 in /usr/local/lib/python3.10/dist-packages (from pandas->shap) (2022.7.1)\n",
            "Requirement already satisfied: joblib>=1.1.1 in /usr/local/lib/python3.10/dist-packages (from scikit-learn->shap) (1.3.1)\n",
            "Requirement already satisfied: threadpoolctl>=2.0.0 in /usr/local/lib/python3.10/dist-packages (from scikit-learn->shap) (3.1.0)\n",
            "Requirement already satisfied: six>=1.5 in /usr/local/lib/python3.10/dist-packages (from python-dateutil>=2.8.1->pandas->shap) (1.16.0)\n",
            "Installing collected packages: slicer, shap\n",
            "Successfully installed shap-0.42.1 slicer-0.0.7\n"
          ]
        }
      ]
    },
    {
      "cell_type": "code",
      "source": [
        "import shap"
      ],
      "metadata": {
        "colab": {
          "base_uri": "https://localhost:8080/"
        },
        "id": "xcqQ1gGoBuGh",
        "outputId": "099be2c3-941d-463e-d4b1-03bb25217b35"
      },
      "execution_count": null,
      "outputs": [
        {
          "output_type": "stream",
          "name": "stderr",
          "text": [
            "Using `tqdm.autonotebook.tqdm` in notebook mode. Use `tqdm.tqdm` instead to force console mode (e.g. in jupyter console)\n"
          ]
        }
      ]
    },
    {
      "cell_type": "code",
      "source": [
        "test_generator[0][0][0].shape"
      ],
      "metadata": {
        "colab": {
          "base_uri": "https://localhost:8080/"
        },
        "id": "qQCYYUyWCat9",
        "outputId": "5d2246c1-66ce-4461-de39-41bbe6f0a555"
      },
      "execution_count": null,
      "outputs": [
        {
          "output_type": "execute_result",
          "data": {
            "text/plain": [
              "(100, 100, 3)"
            ]
          },
          "metadata": {},
          "execution_count": 65
        }
      ]
    },
    {
      "cell_type": "code",
      "source": [
        "X_test = []\n",
        "for i in range(4):\n",
        "  X_test.append(test_generator[i][0][0])"
      ],
      "metadata": {
        "id": "N5DEXBsTDEGn"
      },
      "execution_count": null,
      "outputs": []
    },
    {
      "cell_type": "code",
      "source": [
        "X_test = np.array(X_test)"
      ],
      "metadata": {
        "id": "efo3X9M_DRXX"
      },
      "execution_count": null,
      "outputs": []
    },
    {
      "cell_type": "code",
      "source": [
        "masker = shap.maskers.Image(\"inpaint_telea\", X_test[0].shape)\n",
        "class_labels = [0,1,2,3,4,5,6,7,8,9,'_']\n",
        "explainer = shap.Explainer(model, masker, output_names=class_labels)\n",
        "\n",
        "explainer"
      ],
      "metadata": {
        "colab": {
          "base_uri": "https://localhost:8080/"
        },
        "id": "tZ-QkPrYBu07",
        "outputId": "bb05ae39-2e3b-4218-8603-1bc68214dcf8"
      },
      "execution_count": null,
      "outputs": [
        {
          "output_type": "execute_result",
          "data": {
            "text/plain": [
              "<shap.explainers._partition.Partition at 0x78f41c3bbca0>"
            ]
          },
          "metadata": {},
          "execution_count": 72
        }
      ]
    },
    {
      "cell_type": "code",
      "source": [
        "shap_values = explainer(X_test, outputs=shap.Explanation.argsort.flip[:5])\n",
        "\n",
        "shap_values.shape"
      ],
      "metadata": {
        "colab": {
          "base_uri": "https://localhost:8080/"
        },
        "id": "4VMKNUgWB7bZ",
        "outputId": "51dba420-b72f-42e2-eb00-c158c95eaa12"
      },
      "execution_count": null,
      "outputs": [
        {
          "output_type": "stream",
          "name": "stderr",
          "text": [
            "Partition explainer: 5it [00:17,  8.69s/it]\n"
          ]
        },
        {
          "output_type": "execute_result",
          "data": {
            "text/plain": [
              "(4, 100, 100, 3, 5)"
            ]
          },
          "metadata": {},
          "execution_count": 73
        }
      ]
    },
    {
      "cell_type": "code",
      "source": [
        "shap.image_plot(shap_values)"
      ],
      "metadata": {
        "colab": {
          "base_uri": "https://localhost:8080/",
          "height": 988
        },
        "id": "0F7uu5FrCWMF",
        "outputId": "006436f6-7a41-447b-b070-c00740e415ae"
      },
      "execution_count": null,
      "outputs": [
        {
          "output_type": "stream",
          "name": "stderr",
          "text": [
            "WARNING:matplotlib.image:Clipping input data to the valid range for imshow with RGB data ([0..1] for floats or [0..255] for integers).\n",
            "WARNING:matplotlib.image:Clipping input data to the valid range for imshow with RGB data ([0..1] for floats or [0..255] for integers).\n",
            "WARNING:matplotlib.image:Clipping input data to the valid range for imshow with RGB data ([0..1] for floats or [0..255] for integers).\n"
          ]
        },
        {
          "output_type": "display_data",
          "data": {
            "text/plain": [
              "<Figure size 1800x1250 with 25 Axes>"
            ],
            "image/png": "[encoded data removed]"
          },
          "metadata": {}
        }
      ]
    },
    {
      "cell_type": "code",
      "source": [],
      "metadata": {
        "id": "ZJ9IaeouDsVi"
      },
      "execution_count": null,
      "outputs": []
    }
  ]
}