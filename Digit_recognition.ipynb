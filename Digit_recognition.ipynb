{
  "nbformat": 4,
  "nbformat_minor": 0,
  "metadata": {
    "colab": {
      "provenance": [],
      "include_colab_link": true
    },
    "kernelspec": {
      "name": "python3",
      "display_name": "Python 3"
    },
    "language_info": {
      "name": "python"
    },
    "accelerator": "GPU",
    "gpuClass": "standard"
  },
  "cells": [
    {
      "cell_type": "markdown",
      "metadata": {
        "id": "view-in-github",
        "colab_type": "text"
      },
      "source": [
        "<a href=\"https://colab.research.google.com/github/Vayansh/Digit_recognition/blob/main/Digit_recognition.ipynb\" target=\"_parent\"><img src=\"https://colab.research.google.com/assets/colab-badge.svg\" alt=\"Open In Colab\"/></a>"
      ]
    },
    {
      "cell_type": "markdown",
      "source": [
        "# **1. Getting Dataset and prepare it for preprocessing**"
      ],
      "metadata": {
        "id": "XR60-0gGEjWm"
      }
    },
    {
      "cell_type": "markdown",
      "source": [
        "### **1.1 Importing Libraries**"
      ],
      "metadata": {
        "id": "Ogd1ckA5Ewo1"
      }
    },
    {
      "cell_type": "code",
      "source": [
        "!pip install tqdm"
      ],
      "metadata": {
        "colab": {
          "base_uri": "https://localhost:8080/"
        },
        "id": "jfr6-Vpl34rm",
        "outputId": "797716c7-5465-43cc-d773-eb17339672da"
      },
      "execution_count": null,
      "outputs": [
        {
          "output_type": "stream",
          "name": "stdout",
          "text": [
            "Requirement already satisfied: tqdm in /usr/local/lib/python3.10/dist-packages (4.65.0)\n"
          ]
        }
      ]
    },
    {
      "cell_type": "code",
      "execution_count": null,
      "metadata": {
        "id": "m1_vxt_Js_fM"
      },
      "outputs": [],
      "source": [
        "import cv2 as cv\n",
        "import numpy as np\n",
        "import matplotlib.pyplot as plt\n",
        "from google.colab.patches import cv2_imshow"
      ]
    },
    {
      "cell_type": "code",
      "source": [
        "import pandas as pd\n",
        "import os"
      ],
      "metadata": {
        "id": "NAT_4y4y8d62"
      },
      "execution_count": null,
      "outputs": []
    },
    {
      "cell_type": "markdown",
      "source": [
        "### **1.2 Importing Dataset**"
      ],
      "metadata": {
        "id": "fWZNNRwyFEbC"
      }
    },
    {
      "cell_type": "code",
      "source": [
        "from google.colab import drive\n",
        "drive.mount('/content/drive')"
      ],
      "metadata": {
        "id": "4AOhhXJ_6V03",
        "colab": {
          "base_uri": "https://localhost:8080/"
        },
        "outputId": "4e885b76-3732-4c89-ab60-87337a71b7b2"
      },
      "execution_count": null,
      "outputs": [
        {
          "output_type": "stream",
          "name": "stdout",
          "text": [
            "Drive already mounted at /content/drive; to attempt to forcibly remount, call drive.mount(\"/content/drive\", force_remount=True).\n"
          ]
        }
      ]
    },
    {
      "cell_type": "code",
      "source": [
        "#  Unzipping dataset\n",
        "!unzip \"/content/drive/MyDrive/digit_image_dataset.zip\""
      ],
      "metadata": {
        "id": "Vs3UpERQw_iL"
      },
      "execution_count": null,
      "outputs": []
    },
    {
      "cell_type": "markdown",
      "source": [
        "## **1.3 Forming DataFrame of filepaths and labels**"
      ],
      "metadata": {
        "id": "_qQoQrSjFPhj"
      }
    },
    {
      "cell_type": "markdown",
      "source": [
        "**Displaying a sample image of dataset**"
      ],
      "metadata": {
        "id": "x6d-SRwXzOBu"
      }
    },
    {
      "cell_type": "code",
      "source": [
        "dataset = \"/content/digit_image_dataset/Dataset\"\n",
        "img = cv.imread(dataset+\"/_/0.png\",0)\n",
        "print(img.shape)"
      ],
      "metadata": {
        "id": "9umsVd7T_n5D",
        "colab": {
          "base_uri": "https://localhost:8080/"
        },
        "outputId": "38845b1b-5beb-4aab-f2bd-844252d34b07"
      },
      "execution_count": null,
      "outputs": [
        {
          "output_type": "execute_result",
          "data": {
            "text/plain": [
              "(100, 100)"
            ]
          },
          "metadata": {},
          "execution_count": 41
        }
      ]
    },
    {
      "cell_type": "code",
      "source": [
        "cv2_imshow(img)"
      ],
      "metadata": {
        "colab": {
          "base_uri": "https://localhost:8080/",
          "height": 117
        },
        "id": "5vfX2qTVyjjR",
        "outputId": "b92eb765-cf2b-4667-9ad5-f54b3db565ba"
      },
      "execution_count": null,
      "outputs": [
        {
          "output_type": "display_data",
          "data": {
            "text/plain": [
              "<PIL.Image.Image image mode=L size=100x100 at 0x7A23AE757B80>"
            ],
            "image/png": "[encoded data removed]"
          },
          "metadata": {}
        }
      ]
    },
    {
      "cell_type": "code",
      "source": [
        "IMG_SIZE = (100,100)        # target size of image"
      ],
      "metadata": {
        "id": "VJO-Es-RAK05"
      },
      "execution_count": null,
      "outputs": []
    },
    {
      "cell_type": "code",
      "source": [
        "# building a dataframe of filepaths and labels so as to input to a Image data generator\n",
        "df = []\n",
        "for i in range(0,10):\n",
        "  folder = f\"{i}\"\n",
        "  path = os.path.join(dataset,folder)\n",
        "  for j in os.listdir(path):\n",
        "    dic = {'filepath': os.path.join(dataset,folder,f\"{j}\") , 'label': f\"{i}\"}\n",
        "    df.append(dic)\n",
        "folder = f\"_\"\n",
        "path = os.path.join(dataset,folder)\n",
        "for j in os.listdir(path):\n",
        "    dic = {'filepath': os.path.join(dataset,folder,f\"{j}\") , 'label': \"_\"}\n",
        "    df.append(dic)\n",
        "df = pd.DataFrame(df)\n",
        "df.head()"
      ],
      "metadata": {
        "colab": {
          "base_uri": "https://localhost:8080/",
          "height": 206
        },
        "id": "3Zzn9DHm1RAa",
        "outputId": "a2245513-61bc-4c4d-f692-08d1b56aac82"
      },
      "execution_count": null,
      "outputs": [
        {
          "output_type": "execute_result",
          "data": {
            "text/plain": [
              "                                         filepath label\n",
              "0  /content/digit_image_dataset/Dataset/0/149.png     0\n",
              "1  /content/digit_image_dataset/Dataset/0/239.png     0\n",
              "2  /content/digit_image_dataset/Dataset/0/171.png     0\n",
              "3   /content/digit_image_dataset/Dataset/0/80.png     0\n",
              "4   /content/digit_image_dataset/Dataset/0/91.png     0"
            ],
            "text/html": [
              "\n",
              "  <div id=\"df-948b96a5-e908-4d37-b819-ac233a791be6\">\n",
              "    <div class=\"colab-df-container\">\n",
              "      <div>\n",
              "<style scoped>\n",
              "    .dataframe tbody tr th:only-of-type {\n",
              "        vertical-align: middle;\n",
              "    }\n",
              "\n",
              "    .dataframe tbody tr th {\n",
              "        vertical-align: top;\n",
              "    }\n",
              "\n",
              "    .dataframe thead th {\n",
              "        text-align: right;\n",
              "    }\n",
              "</style>\n",
              "<table border=\"1\" class=\"dataframe\">\n",
              "  <thead>\n",
              "    <tr style=\"text-align: right;\">\n",
              "      <th></th>\n",
              "      <th>filepath</th>\n",
              "      <th>label</th>\n",
              "    </tr>\n",
              "  </thead>\n",
              "  <tbody>\n",
              "    <tr>\n",
              "      <th>0</th>\n",
              "      <td>/content/digit_image_dataset/Dataset/0/149.png</td>\n",
              "      <td>0</td>\n",
              "    </tr>\n",
              "    <tr>\n",
              "      <th>1</th>\n",
              "      <td>/content/digit_image_dataset/Dataset/0/239.png</td>\n",
              "      <td>0</td>\n",
              "    </tr>\n",
              "    <tr>\n",
              "      <th>2</th>\n",
              "      <td>/content/digit_image_dataset/Dataset/0/171.png</td>\n",
              "      <td>0</td>\n",
              "    </tr>\n",
              "    <tr>\n",
              "      <th>3</th>\n",
              "      <td>/content/digit_image_dataset/Dataset/0/80.png</td>\n",
              "      <td>0</td>\n",
              "    </tr>\n",
              "    <tr>\n",
              "      <th>4</th>\n",
              "      <td>/content/digit_image_dataset/Dataset/0/91.png</td>\n",
              "      <td>0</td>\n",
              "    </tr>\n",
              "  </tbody>\n",
              "</table>\n",
              "</div>\n",
              "      <button class=\"colab-df-convert\" onclick=\"convertToInteractive('df-948b96a5-e908-4d37-b819-ac233a791be6')\"\n",
              "              title=\"Convert this dataframe to an interactive table.\"\n",
              "              style=\"display:none;\">\n",
              "        \n",
              "  <svg xmlns=\"http://www.w3.org/2000/svg\" height=\"24px\"viewBox=\"0 0 24 24\"\n",
              "       width=\"24px\">\n",
              "    <path d=\"M0 0h24v24H0V0z\" fill=\"none\"/>\n",
              "    <path d=\"M18.56 5.44l.94 2.06.94-2.06 2.06-.94-2.06-.94-.94-2.06-.94 2.06-2.06.94zm-11 1L8.5 8.5l.94-2.06 2.06-.94-2.06-.94L8.5 2.5l-.94 2.06-2.06.94zm10 10l.94 2.06.94-2.06 2.06-.94-2.06-.94-.94-2.06-.94 2.06-2.06.94z\"/><path d=\"M17.41 7.96l-1.37-1.37c-.4-.4-.92-.59-1.43-.59-.52 0-1.04.2-1.43.59L10.3 9.45l-7.72 7.72c-.78.78-.78 2.05 0 2.83L4 21.41c.39.39.9.59 1.41.59.51 0 1.02-.2 1.41-.59l7.78-7.78 2.81-2.81c.8-.78.8-2.07 0-2.86zM5.41 20L4 18.59l7.72-7.72 1.47 1.35L5.41 20z\"/>\n",
              "  </svg>\n",
              "      </button>\n",
              "      \n",
              "  <style>\n",
              "    .colab-df-container {\n",
              "      display:flex;\n",
              "      flex-wrap:wrap;\n",
              "      gap: 12px;\n",
              "    }\n",
              "\n",
              "    .colab-df-convert {\n",
              "      background-color: #E8F0FE;\n",
              "      border: none;\n",
              "      border-radius: 50%;\n",
              "      cursor: pointer;\n",
              "      display: none;\n",
              "      fill: #1967D2;\n",
              "      height: 32px;\n",
              "      padding: 0 0 0 0;\n",
              "      width: 32px;\n",
              "    }\n",
              "\n",
              "    .colab-df-convert:hover {\n",
              "      background-color: #E2EBFA;\n",
              "      box-shadow: 0px 1px 2px rgba(60, 64, 67, 0.3), 0px 1px 3px 1px rgba(60, 64, 67, 0.15);\n",
              "      fill: #174EA6;\n",
              "    }\n",
              "\n",
              "    [theme=dark] .colab-df-convert {\n",
              "      background-color: #3B4455;\n",
              "      fill: #D2E3FC;\n",
              "    }\n",
              "\n",
              "    [theme=dark] .colab-df-convert:hover {\n",
              "      background-color: #434B5C;\n",
              "      box-shadow: 0px 1px 3px 1px rgba(0, 0, 0, 0.15);\n",
              "      filter: drop-shadow(0px 1px 2px rgba(0, 0, 0, 0.3));\n",
              "      fill: #FFFFFF;\n",
              "    }\n",
              "  </style>\n",
              "\n",
              "      <script>\n",
              "        const buttonEl =\n",
              "          document.querySelector('#df-948b96a5-e908-4d37-b819-ac233a791be6 button.colab-df-convert');\n",
              "        buttonEl.style.display =\n",
              "          google.colab.kernel.accessAllowed ? 'block' : 'none';\n",
              "\n",
              "        async function convertToInteractive(key) {\n",
              "          const element = document.querySelector('#df-948b96a5-e908-4d37-b819-ac233a791be6');\n",
              "          const dataTable =\n",
              "            await google.colab.kernel.invokeFunction('convertToInteractive',\n",
              "                                                     [key], {});\n",
              "          if (!dataTable) return;\n",
              "\n",
              "          const docLinkHtml = 'Like what you see? Visit the ' +\n",
              "            '<a target=\"_blank\" href=https://colab.research.google.com/notebooks/data_table.ipynb>data table notebook</a>'\n",
              "            + ' to learn more about interactive tables.';\n",
              "          element.innerHTML = '';\n",
              "          dataTable['output_type'] = 'display_data';\n",
              "          await google.colab.output.renderOutput(dataTable, element);\n",
              "          const docLink = document.createElement('div');\n",
              "          docLink.innerHTML = docLinkHtml;\n",
              "          element.appendChild(docLink);\n",
              "        }\n",
              "      </script>\n",
              "    </div>\n",
              "  </div>\n",
              "  "
            ]
          },
          "metadata": {},
          "execution_count": 10
        }
      ]
    },
    {
      "cell_type": "code",
      "source": [
        "# Resuffling the dataset\n",
        "df = df.sample(frac = 1)"
      ],
      "metadata": {
        "id": "VBHIJBOVytGD"
      },
      "execution_count": null,
      "outputs": []
    },
    {
      "cell_type": "code",
      "source": [
        "df.head(20)"
      ],
      "metadata": {
        "colab": {
          "base_uri": "https://localhost:8080/",
          "height": 676
        },
        "id": "tIE4BzsezhPo",
        "outputId": "aeced80d-c084-43fd-af54-655106e27310"
      },
      "execution_count": null,
      "outputs": [
        {
          "output_type": "execute_result",
          "data": {
            "text/plain": [
              "                                            filepath label\n",
              "5348  /content/digit_image_dataset/Dataset/_/227.png     _\n",
              "218   /content/digit_image_dataset/Dataset/0/203.png     0\n",
              "5256   /content/digit_image_dataset/Dataset/_/43.png     _\n",
              "2593  /content/digit_image_dataset/Dataset/5/391.png     5\n",
              "1145  /content/digit_image_dataset/Dataset/2/169.png     2\n",
              "2751  /content/digit_image_dataset/Dataset/5/404.png     5\n",
              "1877  /content/digit_image_dataset/Dataset/3/406.png     3\n",
              "4793  /content/digit_image_dataset/Dataset/9/484.png     9\n",
              "4973   /content/digit_image_dataset/Dataset/9/19.png     9\n",
              "660   /content/digit_image_dataset/Dataset/1/457.png     1\n",
              "3366  /content/digit_image_dataset/Dataset/6/362.png     6\n",
              "5383  /content/digit_image_dataset/Dataset/_/423.png     _\n",
              "4757  /content/digit_image_dataset/Dataset/9/490.png     9\n",
              "4139  /content/digit_image_dataset/Dataset/8/161.png     8\n",
              "2445  /content/digit_image_dataset/Dataset/4/471.png     4\n",
              "3655  /content/digit_image_dataset/Dataset/7/489.png     7\n",
              "1047  /content/digit_image_dataset/Dataset/2/401.png     2\n",
              "399   /content/digit_image_dataset/Dataset/0/462.png     0\n",
              "2216  /content/digit_image_dataset/Dataset/4/140.png     4\n",
              "2064  /content/digit_image_dataset/Dataset/4/202.png     4"
            ],
            "text/html": [
              "\n",
              "  <div id=\"df-8654c51a-a697-4dbf-8e68-717f0d5846db\">\n",
              "    <div class=\"colab-df-container\">\n",
              "      <div>\n",
              "<style scoped>\n",
              "    .dataframe tbody tr th:only-of-type {\n",
              "        vertical-align: middle;\n",
              "    }\n",
              "\n",
              "    .dataframe tbody tr th {\n",
              "        vertical-align: top;\n",
              "    }\n",
              "\n",
              "    .dataframe thead th {\n",
              "        text-align: right;\n",
              "    }\n",
              "</style>\n",
              "<table border=\"1\" class=\"dataframe\">\n",
              "  <thead>\n",
              "    <tr style=\"text-align: right;\">\n",
              "      <th></th>\n",
              "      <th>filepath</th>\n",
              "      <th>label</th>\n",
              "    </tr>\n",
              "  </thead>\n",
              "  <tbody>\n",
              "    <tr>\n",
              "      <th>5348</th>\n",
              "      <td>/content/digit_image_dataset/Dataset/_/227.png</td>\n",
              "      <td>_</td>\n",
              "    </tr>\n",
              "    <tr>\n",
              "      <th>218</th>\n",
              "      <td>/content/digit_image_dataset/Dataset/0/203.png</td>\n",
              "      <td>0</td>\n",
              "    </tr>\n",
              "    <tr>\n",
              "      <th>5256</th>\n",
              "      <td>/content/digit_image_dataset/Dataset/_/43.png</td>\n",
              "      <td>_</td>\n",
              "    </tr>\n",
              "    <tr>\n",
              "      <th>2593</th>\n",
              "      <td>/content/digit_image_dataset/Dataset/5/391.png</td>\n",
              "      <td>5</td>\n",
              "    </tr>\n",
              "    <tr>\n",
              "      <th>1145</th>\n",
              "      <td>/content/digit_image_dataset/Dataset/2/169.png</td>\n",
              "      <td>2</td>\n",
              "    </tr>\n",
              "    <tr>\n",
              "      <th>2751</th>\n",
              "      <td>/content/digit_image_dataset/Dataset/5/404.png</td>\n",
              "      <td>5</td>\n",
              "    </tr>\n",
              "    <tr>\n",
              "      <th>1877</th>\n",
              "      <td>/content/digit_image_dataset/Dataset/3/406.png</td>\n",
              "      <td>3</td>\n",
              "    </tr>\n",
              "    <tr>\n",
              "      <th>4793</th>\n",
              "      <td>/content/digit_image_dataset/Dataset/9/484.png</td>\n",
              "      <td>9</td>\n",
              "    </tr>\n",
              "    <tr>\n",
              "      <th>4973</th>\n",
              "      <td>/content/digit_image_dataset/Dataset/9/19.png</td>\n",
              "      <td>9</td>\n",
              "    </tr>\n",
              "    <tr>\n",
              "      <th>660</th>\n",
              "      <td>/content/digit_image_dataset/Dataset/1/457.png</td>\n",
              "      <td>1</td>\n",
              "    </tr>\n",
              "    <tr>\n",
              "      <th>3366</th>\n",
              "      <td>/content/digit_image_dataset/Dataset/6/362.png</td>\n",
              "      <td>6</td>\n",
              "    </tr>\n",
              "    <tr>\n",
              "      <th>5383</th>\n",
              "      <td>/content/digit_image_dataset/Dataset/_/423.png</td>\n",
              "      <td>_</td>\n",
              "    </tr>\n",
              "    <tr>\n",
              "      <th>4757</th>\n",
              "      <td>/content/digit_image_dataset/Dataset/9/490.png</td>\n",
              "      <td>9</td>\n",
              "    </tr>\n",
              "    <tr>\n",
              "      <th>4139</th>\n",
              "      <td>/content/digit_image_dataset/Dataset/8/161.png</td>\n",
              "      <td>8</td>\n",
              "    </tr>\n",
              "    <tr>\n",
              "      <th>2445</th>\n",
              "      <td>/content/digit_image_dataset/Dataset/4/471.png</td>\n",
              "      <td>4</td>\n",
              "    </tr>\n",
              "    <tr>\n",
              "      <th>3655</th>\n",
              "      <td>/content/digit_image_dataset/Dataset/7/489.png</td>\n",
              "      <td>7</td>\n",
              "    </tr>\n",
              "    <tr>\n",
              "      <th>1047</th>\n",
              "      <td>/content/digit_image_dataset/Dataset/2/401.png</td>\n",
              "      <td>2</td>\n",
              "    </tr>\n",
              "    <tr>\n",
              "      <th>399</th>\n",
              "      <td>/content/digit_image_dataset/Dataset/0/462.png</td>\n",
              "      <td>0</td>\n",
              "    </tr>\n",
              "    <tr>\n",
              "      <th>2216</th>\n",
              "      <td>/content/digit_image_dataset/Dataset/4/140.png</td>\n",
              "      <td>4</td>\n",
              "    </tr>\n",
              "    <tr>\n",
              "      <th>2064</th>\n",
              "      <td>/content/digit_image_dataset/Dataset/4/202.png</td>\n",
              "      <td>4</td>\n",
              "    </tr>\n",
              "  </tbody>\n",
              "</table>\n",
              "</div>\n",
              "      <button class=\"colab-df-convert\" onclick=\"convertToInteractive('df-8654c51a-a697-4dbf-8e68-717f0d5846db')\"\n",
              "              title=\"Convert this dataframe to an interactive table.\"\n",
              "              style=\"display:none;\">\n",
              "        \n",
              "  <svg xmlns=\"http://www.w3.org/2000/svg\" height=\"24px\"viewBox=\"0 0 24 24\"\n",
              "       width=\"24px\">\n",
              "    <path d=\"M0 0h24v24H0V0z\" fill=\"none\"/>\n",
              "    <path d=\"M18.56 5.44l.94 2.06.94-2.06 2.06-.94-2.06-.94-.94-2.06-.94 2.06-2.06.94zm-11 1L8.5 8.5l.94-2.06 2.06-.94-2.06-.94L8.5 2.5l-.94 2.06-2.06.94zm10 10l.94 2.06.94-2.06 2.06-.94-2.06-.94-.94-2.06-.94 2.06-2.06.94z\"/><path d=\"M17.41 7.96l-1.37-1.37c-.4-.4-.92-.59-1.43-.59-.52 0-1.04.2-1.43.59L10.3 9.45l-7.72 7.72c-.78.78-.78 2.05 0 2.83L4 21.41c.39.39.9.59 1.41.59.51 0 1.02-.2 1.41-.59l7.78-7.78 2.81-2.81c.8-.78.8-2.07 0-2.86zM5.41 20L4 18.59l7.72-7.72 1.47 1.35L5.41 20z\"/>\n",
              "  </svg>\n",
              "      </button>\n",
              "      \n",
              "  <style>\n",
              "    .colab-df-container {\n",
              "      display:flex;\n",
              "      flex-wrap:wrap;\n",
              "      gap: 12px;\n",
              "    }\n",
              "\n",
              "    .colab-df-convert {\n",
              "      background-color: #E8F0FE;\n",
              "      border: none;\n",
              "      border-radius: 50%;\n",
              "      cursor: pointer;\n",
              "      display: none;\n",
              "      fill: #1967D2;\n",
              "      height: 32px;\n",
              "      padding: 0 0 0 0;\n",
              "      width: 32px;\n",
              "    }\n",
              "\n",
              "    .colab-df-convert:hover {\n",
              "      background-color: #E2EBFA;\n",
              "      box-shadow: 0px 1px 2px rgba(60, 64, 67, 0.3), 0px 1px 3px 1px rgba(60, 64, 67, 0.15);\n",
              "      fill: #174EA6;\n",
              "    }\n",
              "\n",
              "    [theme=dark] .colab-df-convert {\n",
              "      background-color: #3B4455;\n",
              "      fill: #D2E3FC;\n",
              "    }\n",
              "\n",
              "    [theme=dark] .colab-df-convert:hover {\n",
              "      background-color: #434B5C;\n",
              "      box-shadow: 0px 1px 3px 1px rgba(0, 0, 0, 0.15);\n",
              "      filter: drop-shadow(0px 1px 2px rgba(0, 0, 0, 0.3));\n",
              "      fill: #FFFFFF;\n",
              "    }\n",
              "  </style>\n",
              "\n",
              "      <script>\n",
              "        const buttonEl =\n",
              "          document.querySelector('#df-8654c51a-a697-4dbf-8e68-717f0d5846db button.colab-df-convert');\n",
              "        buttonEl.style.display =\n",
              "          google.colab.kernel.accessAllowed ? 'block' : 'none';\n",
              "\n",
              "        async function convertToInteractive(key) {\n",
              "          const element = document.querySelector('#df-8654c51a-a697-4dbf-8e68-717f0d5846db');\n",
              "          const dataTable =\n",
              "            await google.colab.kernel.invokeFunction('convertToInteractive',\n",
              "                                                     [key], {});\n",
              "          if (!dataTable) return;\n",
              "\n",
              "          const docLinkHtml = 'Like what you see? Visit the ' +\n",
              "            '<a target=\"_blank\" href=https://colab.research.google.com/notebooks/data_table.ipynb>data table notebook</a>'\n",
              "            + ' to learn more about interactive tables.';\n",
              "          element.innerHTML = '';\n",
              "          dataTable['output_type'] = 'display_data';\n",
              "          await google.colab.output.renderOutput(dataTable, element);\n",
              "          const docLink = document.createElement('div');\n",
              "          docLink.innerHTML = docLinkHtml;\n",
              "          element.appendChild(docLink);\n",
              "        }\n",
              "      </script>\n",
              "    </div>\n",
              "  </div>\n",
              "  "
            ]
          },
          "metadata": {},
          "execution_count": 15
        }
      ]
    },
    {
      "cell_type": "code",
      "source": [
        "# Checking balancing of dataset\n",
        "df['label'].value_counts()"
      ],
      "metadata": {
        "colab": {
          "base_uri": "https://localhost:8080/"
        },
        "id": "ZSYXKEtI-HcT",
        "outputId": "2ca2fc86-5a55-4d96-cf4b-960fcf73b7d4"
      },
      "execution_count": null,
      "outputs": [
        {
          "output_type": "execute_result",
          "data": {
            "text/plain": [
              "_    500\n",
              "0    500\n",
              "5    500\n",
              "2    500\n",
              "3    500\n",
              "9    500\n",
              "1    500\n",
              "6    500\n",
              "8    500\n",
              "4    500\n",
              "7    500\n",
              "Name: label, dtype: int64"
            ]
          },
          "metadata": {},
          "execution_count": 16
        }
      ]
    },
    {
      "cell_type": "markdown",
      "source": [
        "Quite Balanced"
      ],
      "metadata": {
        "id": "ge096fk60B4I"
      }
    },
    {
      "cell_type": "markdown",
      "source": [
        "# **2. Dataset Preprocessing**"
      ],
      "metadata": {
        "id": "a4pLcQNG_9Zr"
      }
    },
    {
      "cell_type": "markdown",
      "source": [
        "## **2.1 Splitting of dataset**"
      ],
      "metadata": {
        "id": "KK-e99sJFsjU"
      }
    },
    {
      "cell_type": "code",
      "source": [
        "from sklearn.model_selection import train_test_split\n",
        "from keras.preprocessing.image import ImageDataGenerator"
      ],
      "metadata": {
        "id": "tn3ZIOqC-teq"
      },
      "execution_count": null,
      "outputs": []
    },
    {
      "cell_type": "markdown",
      "source": [
        "### 2.1.1 Splitting dataset into training and testing"
      ],
      "metadata": {
        "id": "hA2kgCo00OwH"
      }
    },
    {
      "cell_type": "code",
      "source": [
        "train_X, test_X = train_test_split(df,test_size = 0.2,random_state=21)"
      ],
      "metadata": {
        "id": "2aV5w6Hg-l0k"
      },
      "execution_count": null,
      "outputs": []
    },
    {
      "cell_type": "markdown",
      "source": [
        "### 2.1.2 Further Splitting training dataset into training and validation"
      ],
      "metadata": {
        "id": "aMdf4-fk0Yrk"
      }
    },
    {
      "cell_type": "code",
      "source": [
        "train_X, val_X = train_test_split(train_X,test_size=0.2,random_state = 21)"
      ],
      "metadata": {
        "id": "IZrL5HSI5V-H"
      },
      "execution_count": null,
      "outputs": []
    },
    {
      "cell_type": "markdown",
      "source": [
        "## **2.2 Image Data generator**"
      ],
      "metadata": {
        "id": "7-q5hs5bFyO0"
      }
    },
    {
      "cell_type": "markdown",
      "source": [
        "### 2.2.1 Training Image Data Generator"
      ],
      "metadata": {
        "id": "mSqFi00n0kvN"
      }
    },
    {
      "cell_type": "code",
      "source": [
        "generator = ImageDataGenerator(validation_split = 0)\n",
        "train_generator = generator.flow_from_dataframe(train_X,directory=None,  target_size = (100,100), class_mode = 'categorical',\n",
        "                                                x_col = 'filepath' , y_col= 'label',batch_size=32)"
      ],
      "metadata": {
        "colab": {
          "base_uri": "https://localhost:8080/"
        },
        "id": "naHDXk0H5S33",
        "outputId": "ce8dfcd0-09e2-464b-f293-a735c8088f57"
      },
      "execution_count": null,
      "outputs": [
        {
          "output_type": "stream",
          "name": "stdout",
          "text": [
            "Found 3520 validated image filenames belonging to 11 classes.\n"
          ]
        }
      ]
    },
    {
      "cell_type": "markdown",
      "source": [
        "### 2.2.2 Testing Image Data Generator"
      ],
      "metadata": {
        "id": "NDkEEatK0re0"
      }
    },
    {
      "cell_type": "code",
      "source": [
        "test_generator = generator.flow_from_dataframe(test_X,directory=None,  target_size = (100,100), class_mode = 'categorical',\n",
        "                                                x_col = 'filepath' , y_col= 'label',batch_size=1)"
      ],
      "metadata": {
        "colab": {
          "base_uri": "https://localhost:8080/"
        },
        "id": "e_Z7js9U_Uxy",
        "outputId": "fc8a4f6d-2b51-489d-9c71-4e96b3bccd83"
      },
      "execution_count": null,
      "outputs": [
        {
          "output_type": "stream",
          "name": "stdout",
          "text": [
            "Found 1100 validated image filenames belonging to 11 classes.\n"
          ]
        }
      ]
    },
    {
      "cell_type": "markdown",
      "source": [
        "### 2.2.3 Validation Image Data Generator"
      ],
      "metadata": {
        "id": "coPaguIT0tAN"
      }
    },
    {
      "cell_type": "code",
      "source": [
        "val_generator = generator.flow_from_dataframe(val_X , target_size = (100,100), class_mode = 'categorical',\n",
        "                                              x_col = 'filepath' , y_col = 'label' , batch_size = 1)"
      ],
      "metadata": {
        "colab": {
          "base_uri": "https://localhost:8080/"
        },
        "id": "UM9YlguV5sAp",
        "outputId": "c6bb4583-538f-433e-874d-3af298906589"
      },
      "execution_count": null,
      "outputs": [
        {
          "output_type": "stream",
          "name": "stdout",
          "text": [
            "Found 880 validated image filenames belonging to 11 classes.\n"
          ]
        }
      ]
    },
    {
      "cell_type": "markdown",
      "source": [
        "### 2.2.4 Generator Testing"
      ],
      "metadata": {
        "id": "CLZzt13RF3r0"
      }
    },
    {
      "cell_type": "code",
      "source": [
        "cv2_imshow(train_generator[0][0][0])"
      ],
      "metadata": {
        "colab": {
          "base_uri": "https://localhost:8080/",
          "height": 117
        },
        "id": "mo479EbI8tZ3",
        "outputId": "2b36523b-4b07-4f68-fcb2-382d783938b7"
      },
      "execution_count": null,
      "outputs": [
        {
          "output_type": "display_data",
          "data": {
            "text/plain": [
              "<PIL.Image.Image image mode=RGB size=100x100 at 0x7A23C1BB6AD0>"
            ],
            "image/png": "[encoded data removed]"
          },
          "metadata": {}
        }
      ]
    },
    {
      "cell_type": "code",
      "source": [
        "train_generator[0][1][0]"
      ],
      "metadata": {
        "colab": {
          "base_uri": "https://localhost:8080/"
        },
        "id": "5geW4vRL9Jx3",
        "outputId": "d146203a-91dd-434a-9497-d07af64cf0b0"
      },
      "execution_count": null,
      "outputs": [
        {
          "output_type": "execute_result",
          "data": {
            "text/plain": [
              "array([0., 1., 0., 0., 0., 0., 0., 0., 0., 0., 0.], dtype=float32)"
            ]
          },
          "metadata": {},
          "execution_count": 24
        }
      ]
    },
    {
      "cell_type": "markdown",
      "source": [
        "# **3. Model**"
      ],
      "metadata": {
        "id": "1q5TYcRvAENF"
      }
    },
    {
      "cell_type": "markdown",
      "source": [
        "## **3.1 Model Creation**"
      ],
      "metadata": {
        "id": "3WYIslLUGa_A"
      }
    },
    {
      "cell_type": "code",
      "source": [
        "from keras.models import Sequential\n",
        "from keras.activations import relu,linear\n",
        "from keras.layers import Conv2D, Flatten, Dense, MaxPool2D, Dropout, InputLayer"
      ],
      "metadata": {
        "id": "yfC-i6va0Ejl"
      },
      "execution_count": null,
      "outputs": []
    },
    {
      "cell_type": "code",
      "source": [
        "model = Sequential()\n",
        "model.add(Conv2D(32,(3,3),activation = 'relu',input_shape = (100,100,3)))\n",
        "model.add(Conv2D(64,(5,5),activation = 'relu'))\n",
        "model.add(Dropout(0.2))\n",
        "model.add(MaxPool2D(pool_size = (2,2)))\n",
        "model.add(Conv2D(16,(3,3),activation = 'relu'))\n",
        "model.add(Dropout(0.5))\n",
        "model.add(Flatten())\n",
        "model.add(Dense(11,activation = 'softmax'))\n",
        "model.summary()"
      ],
      "metadata": {
        "id": "1kyhwy1l0498",
        "colab": {
          "base_uri": "https://localhost:8080/"
        },
        "outputId": "3f1eeaef-507e-4a70-c505-4a61986c2f3a"
      },
      "execution_count": null,
      "outputs": [
        {
          "output_type": "stream",
          "name": "stdout",
          "text": [
            "Model: \"sequential_3\"\n",
            "_________________________________________________________________\n",
            " Layer (type)                Output Shape              Param #   \n",
            "=================================================================\n",
            " conv2d_9 (Conv2D)           (None, 98, 98, 32)        896       \n",
            "                                                                 \n",
            " conv2d_10 (Conv2D)          (None, 94, 94, 64)        51264     \n",
            "                                                                 \n",
            " dropout_6 (Dropout)         (None, 94, 94, 64)        0         \n",
            "                                                                 \n",
            " max_pooling2d_3 (MaxPooling  (None, 47, 47, 64)       0         \n",
            " 2D)                                                             \n",
            "                                                                 \n",
            " conv2d_11 (Conv2D)          (None, 45, 45, 16)        9232      \n",
            "                                                                 \n",
            " dropout_7 (Dropout)         (None, 45, 45, 16)        0         \n",
            "                                                                 \n",
            " flatten_3 (Flatten)         (None, 32400)             0         \n",
            "                                                                 \n",
            " dense_3 (Dense)             (None, 11)                356411    \n",
            "                                                                 \n",
            "=================================================================\n",
            "Total params: 417,803\n",
            "Trainable params: 417,803\n",
            "Non-trainable params: 0\n",
            "_________________________________________________________________\n"
          ]
        }
      ]
    },
    {
      "cell_type": "code",
      "source": [
        "model.compile(optimizer='Adam',loss = 'categorical_crossentropy',metrics= ['accuracy'])"
      ],
      "metadata": {
        "id": "B2ecg0EbAVrN"
      },
      "execution_count": null,
      "outputs": []
    },
    {
      "cell_type": "markdown",
      "source": [
        "## **3.2 Model Fitting**"
      ],
      "metadata": {
        "id": "1ZiszDtgGlwy"
      }
    },
    {
      "cell_type": "code",
      "source": [
        "model.fit(train_generator,validation_data = val_generator ,epochs = 14)"
      ],
      "metadata": {
        "id": "cEwdEcRyAVlG",
        "colab": {
          "base_uri": "https://localhost:8080/"
        },
        "outputId": "d77b7c9f-3501-4f35-8e6e-02f1e40fc98d"
      },
      "execution_count": null,
      "outputs": [
        {
          "output_type": "stream",
          "name": "stdout",
          "text": [
            "Epoch 1/20\n",
            "110/110 [==============================] - 8s 60ms/step - loss: 1.0845 - accuracy: 0.8168 - val_loss: 0.2935 - val_accuracy: 0.9182\n",
            "Epoch 2/20\n",
            "110/110 [==============================] - 7s 63ms/step - loss: 0.2269 - accuracy: 0.9344 - val_loss: 0.1782 - val_accuracy: 0.9455\n",
            "Epoch 3/20\n",
            "110/110 [==============================] - 9s 81ms/step - loss: 0.1498 - accuracy: 0.9534 - val_loss: 0.1682 - val_accuracy: 0.9489\n",
            "Epoch 4/20\n",
            "110/110 [==============================] - 6s 57ms/step - loss: 0.0921 - accuracy: 0.9699 - val_loss: 0.1789 - val_accuracy: 0.9398\n",
            "Epoch 5/20\n",
            "110/110 [==============================] - 7s 65ms/step - loss: 0.0605 - accuracy: 0.9804 - val_loss: 0.2074 - val_accuracy: 0.9455\n",
            "Epoch 6/20\n",
            "110/110 [==============================] - 8s 68ms/step - loss: 0.0619 - accuracy: 0.9807 - val_loss: 0.2335 - val_accuracy: 0.9330\n",
            "Epoch 7/20\n",
            "110/110 [==============================] - 6s 58ms/step - loss: 0.0461 - accuracy: 0.9849 - val_loss: 0.2151 - val_accuracy: 0.9455\n",
            "Epoch 8/20\n",
            "110/110 [==============================] - 7s 64ms/step - loss: 0.0243 - accuracy: 0.9909 - val_loss: 0.2321 - val_accuracy: 0.9455\n",
            "Epoch 9/20\n",
            "110/110 [==============================] - 8s 69ms/step - loss: 0.0538 - accuracy: 0.9844 - val_loss: 0.2518 - val_accuracy: 0.9466\n",
            "Epoch 10/20\n",
            "110/110 [==============================] - 6s 57ms/step - loss: 0.0406 - accuracy: 0.9864 - val_loss: 0.2660 - val_accuracy: 0.9466\n",
            "Epoch 11/20\n",
            "110/110 [==============================] - 6s 58ms/step - loss: 0.0434 - accuracy: 0.9858 - val_loss: 0.2281 - val_accuracy: 0.9432\n",
            "Epoch 12/20\n",
            "110/110 [==============================] - 7s 61ms/step - loss: 0.0373 - accuracy: 0.9884 - val_loss: 0.2779 - val_accuracy: 0.9318\n",
            "Epoch 13/20\n",
            "110/110 [==============================] - 7s 60ms/step - loss: 0.0226 - accuracy: 0.9915 - val_loss: 0.2310 - val_accuracy: 0.9511\n",
            "Epoch 14/20\n",
            "110/110 [==============================] - 6s 57ms/step - loss: 0.0266 - accuracy: 0.9920 - val_loss: 0.2787 - val_accuracy: 0.9375\n",
            "Epoch 15/20\n",
            "110/110 [==============================] - 7s 66ms/step - loss: 0.0304 - accuracy: 0.9901 - val_loss: 0.2751 - val_accuracy: 0.9477\n",
            "Epoch 16/20\n",
            "110/110 [==============================] - 7s 65ms/step - loss: 0.0377 - accuracy: 0.9878 - val_loss: 0.2618 - val_accuracy: 0.9409\n",
            "Epoch 17/20\n",
            "110/110 [==============================] - 6s 56ms/step - loss: 0.0660 - accuracy: 0.9824 - val_loss: 0.2582 - val_accuracy: 0.9455\n",
            "Epoch 18/20\n",
            "110/110 [==============================] - 6s 57ms/step - loss: 0.0131 - accuracy: 0.9963 - val_loss: 0.2584 - val_accuracy: 0.9557\n",
            "Epoch 19/20\n",
            "110/110 [==============================] - 8s 70ms/step - loss: 0.0301 - accuracy: 0.9926 - val_loss: 0.2848 - val_accuracy: 0.9534\n",
            "Epoch 20/20\n",
            "110/110 [==============================] - 6s 57ms/step - loss: 0.0534 - accuracy: 0.9866 - val_loss: 0.2489 - val_accuracy: 0.9432\n"
          ]
        },
        {
          "output_type": "execute_result",
          "data": {
            "text/plain": [
              "<keras.callbacks.History at 0x7a23c0079510>"
            ]
          },
          "metadata": {},
          "execution_count": 56
        }
      ]
    },
    {
      "cell_type": "markdown",
      "source": [
        "## **3.3 Model Saving**"
      ],
      "metadata": {
        "id": "vpGZ2EyW1nSm"
      }
    },
    {
      "cell_type": "code",
      "source": [
        "model.save('model-1.h5')"
      ],
      "metadata": {
        "id": "DI2gKu_IAVe1"
      },
      "execution_count": null,
      "outputs": []
    },
    {
      "cell_type": "markdown",
      "source": [
        "# **4. Testing of Model**"
      ],
      "metadata": {
        "id": "EqIE1l-JGs6C"
      }
    },
    {
      "cell_type": "markdown",
      "source": [
        "## **4.1 1st test**"
      ],
      "metadata": {
        "id": "PQJnbk2CG8p9"
      }
    },
    {
      "cell_type": "markdown",
      "source": [
        "### Testing Image"
      ],
      "metadata": {
        "id": "Ki7VMz8a16C-"
      }
    },
    {
      "cell_type": "code",
      "source": [
        "cv2_imshow(test_generator[2][0][0])"
      ],
      "metadata": {
        "colab": {
          "base_uri": "https://localhost:8080/",
          "height": 117
        },
        "id": "_ClcL0llAgZg",
        "outputId": "33447154-2da7-476e-d9c3-f2925ec55c85"
      },
      "execution_count": null,
      "outputs": [
        {
          "output_type": "display_data",
          "data": {
            "text/plain": [
              "<PIL.Image.Image image mode=RGB size=100x100 at 0x7A24402CAE90>"
            ],
            "image/png": "[encoded data removed]"
          },
          "metadata": {}
        }
      ]
    },
    {
      "cell_type": "markdown",
      "source": [
        "### Testing Image Shape"
      ],
      "metadata": {
        "id": "F2Zs9qZP2FNk"
      }
    },
    {
      "cell_type": "code",
      "source": [
        "test_generator[2][0][0].shape"
      ],
      "metadata": {
        "colab": {
          "base_uri": "https://localhost:8080/"
        },
        "id": "FG7qn-ghBUIU",
        "outputId": "8f53b42c-599e-40d3-a5a5-4d30693ba309"
      },
      "execution_count": null,
      "outputs": [
        {
          "output_type": "execute_result",
          "data": {
            "text/plain": [
              "(100, 100, 3)"
            ]
          },
          "metadata": {},
          "execution_count": 64
        }
      ]
    },
    {
      "cell_type": "markdown",
      "source": [
        "### True Output"
      ],
      "metadata": {
        "id": "mZBdmk1p2KRL"
      }
    },
    {
      "cell_type": "code",
      "source": [
        "np.argmax(test_generator[2][1][0])"
      ],
      "metadata": {
        "colab": {
          "base_uri": "https://localhost:8080/"
        },
        "id": "SEdkI8ktAuLj",
        "outputId": "b0fd663f-9665-4396-b101-9177d7649475"
      },
      "execution_count": null,
      "outputs": [
        {
          "output_type": "execute_result",
          "data": {
            "text/plain": [
              "array([0., 0., 0., 1., 0., 0., 0., 0., 0., 0., 0.], dtype=float32)"
            ]
          },
          "metadata": {},
          "execution_count": 65
        }
      ]
    },
    {
      "cell_type": "markdown",
      "source": [
        "### Predictions"
      ],
      "metadata": {
        "id": "wFEYArsp2Pvy"
      }
    },
    {
      "cell_type": "code",
      "source": [
        "np.argmax(model.predict(np.resize(test_generator[2][0][0],(1,100,100,3)),verbose = 0))"
      ],
      "metadata": {
        "colab": {
          "base_uri": "https://localhost:8080/"
        },
        "id": "ABeD9IAD-nzC",
        "outputId": "c19dfd87-1eff-40c0-80b2-820b23fa1f84"
      },
      "execution_count": null,
      "outputs": [
        {
          "output_type": "execute_result",
          "data": {
            "text/plain": [
              "3"
            ]
          },
          "metadata": {},
          "execution_count": 67
        }
      ]
    },
    {
      "cell_type": "markdown",
      "source": [
        "## Getting Accuracy Score on Testing Dataset"
      ],
      "metadata": {
        "id": "sy2X3wS7tjSg"
      }
    },
    {
      "cell_type": "code",
      "source": [
        "from tqdm import tqdm"
      ],
      "metadata": {
        "id": "qN5RAvqV6veH"
      },
      "execution_count": null,
      "outputs": []
    },
    {
      "cell_type": "markdown",
      "source": [
        "### Getting predictions on testing dataset"
      ],
      "metadata": {
        "id": "XbTf4BQ42qQ9"
      }
    },
    {
      "cell_type": "code",
      "source": [
        "y_pred = []\n",
        "for i in tqdm(range(0,1100)):\n",
        "  y_pred.append(np.argmax(model.predict(np.resize(test_generator[i][0][0],(1,100,100,3)),verbose = 0)))"
      ],
      "metadata": {
        "colab": {
          "base_uri": "https://localhost:8080/"
        },
        "id": "VZH4_kJ-AEqD",
        "outputId": "8c17ede8-a849-412a-eb80-f45342c44243"
      },
      "execution_count": null,
      "outputs": [
        {
          "output_type": "stream",
          "name": "stderr",
          "text": [
            "100%|██████████| 1100/1100 [01:48<00:00, 10.14it/s]\n"
          ]
        }
      ]
    },
    {
      "cell_type": "markdown",
      "source": [
        "### True Output of Testing dataset"
      ],
      "metadata": {
        "id": "QWBOTEvB2vIb"
      }
    },
    {
      "cell_type": "code",
      "source": [
        "y_test = []\n",
        "for i in tqdm(range(0,1100)):\n",
        "  y_test.append(np.argmax(test_generator[i][1][0]))"
      ],
      "metadata": {
        "colab": {
          "base_uri": "https://localhost:8080/"
        },
        "id": "-tPIVhXZ29Uq",
        "outputId": "f778e29f-2068-44f4-eb4c-1b2643616664"
      },
      "execution_count": null,
      "outputs": [
        {
          "output_type": "stream",
          "name": "stderr",
          "text": [
            "100%|██████████| 1100/1100 [00:00<00:00, 2672.13it/s]\n"
          ]
        }
      ]
    },
    {
      "cell_type": "code",
      "source": [
        "from sklearn.metrics import accuracy_score"
      ],
      "metadata": {
        "id": "MGq22lSn3NUh"
      },
      "execution_count": null,
      "outputs": []
    },
    {
      "cell_type": "code",
      "source": [
        "print(\"Accuracy Score : \",accuracy_score(y_test,y_pred))"
      ],
      "metadata": {
        "colab": {
          "base_uri": "https://localhost:8080/"
        },
        "id": "CIIuLpbS3R9b",
        "outputId": "3e31da7f-6ac8-48b0-9b79-ee48814b3da4"
      },
      "execution_count": null,
      "outputs": [
        {
          "output_type": "execute_result",
          "data": {
            "text/plain": [
              "0.94"
            ]
          },
          "metadata": {},
          "execution_count": 62
        }
      ]
    },
    {
      "cell_type": "markdown",
      "source": [
        "## **2nd test**"
      ],
      "metadata": {
        "id": "hp4I3CQKHAg9"
      }
    },
    {
      "cell_type": "code",
      "source": [
        "img = cv.imread('/content/test_image.jpg')"
      ],
      "metadata": {
        "id": "1395UW0zA2Yi"
      },
      "execution_count": null,
      "outputs": []
    },
    {
      "cell_type": "code",
      "source": [
        "img = cv.resize(img,(100,100),cv.INTER_CUBIC)"
      ],
      "metadata": {
        "id": "3-4NEDmUDJJj"
      },
      "execution_count": null,
      "outputs": []
    },
    {
      "cell_type": "code",
      "source": [
        "img.shape"
      ],
      "metadata": {
        "colab": {
          "base_uri": "https://localhost:8080/"
        },
        "id": "dinVUMw8DHya",
        "outputId": "898ffd4f-0f34-46c3-a893-40c0a3b5502c"
      },
      "execution_count": null,
      "outputs": [
        {
          "output_type": "execute_result",
          "data": {
            "text/plain": [
              "(100, 100, 3)"
            ]
          },
          "metadata": {},
          "execution_count": 49
        }
      ]
    },
    {
      "cell_type": "code",
      "source": [
        "cv2_imshow(img)"
      ],
      "metadata": {
        "colab": {
          "base_uri": "https://localhost:8080/",
          "height": 117
        },
        "id": "p-HZ65aCDvDP",
        "outputId": "6b91a4f2-53b2-44af-c8fe-673ac8ef3093"
      },
      "execution_count": null,
      "outputs": [
        {
          "output_type": "display_data",
          "data": {
            "text/plain": [
              "<PIL.Image.Image image mode=RGB size=100x100 at 0x7F74B002E190>"
            ],
            "image/png": "[encoded data removed]"
          },
          "metadata": {}
        }
      ]
    },
    {
      "cell_type": "code",
      "source": [
        "np.argmax(model.predict(np.resize(img,(1,100,100,3))))"
      ],
      "metadata": {
        "colab": {
          "base_uri": "https://localhost:8080/"
        },
        "id": "C9XcnqTrDfll",
        "outputId": "1e007b72-9f05-47c3-9d75-6df897c57e66"
      },
      "execution_count": null,
      "outputs": [
        {
          "output_type": "stream",
          "name": "stdout",
          "text": [
            "1/1 [==============================] - 0s 16ms/step\n"
          ]
        },
        {
          "output_type": "execute_result",
          "data": {
            "text/plain": [
              "10"
            ]
          },
          "metadata": {},
          "execution_count": 52
        }
      ]
    },
    {
      "cell_type": "code",
      "source": [],
      "metadata": {
        "id": "8ekcCNvK9iKc"
      },
      "execution_count": null,
      "outputs": []
    }
  ]
}